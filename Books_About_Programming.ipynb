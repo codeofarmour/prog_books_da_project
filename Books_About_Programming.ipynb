{
  "nbformat": 4,
  "nbformat_minor": 0,
  "metadata": {
    "colab": {
      "name": "Books_About_Programming.ipynb",
      "provenance": [],
      "authorship_tag": "ABX9TyP1KQ6YfXqstL7O+dmPjELj",
      "include_colab_link": true
    },
    "kernelspec": {
      "name": "python3",
      "display_name": "Python 3"
    },
    "language_info": {
      "name": "python"
    }
  },
  "cells": [
    {
      "cell_type": "markdown",
      "metadata": {
        "id": "view-in-github",
        "colab_type": "text"
      },
      "source": [
        "<a href=\"https://colab.research.google.com/github/codeofarmour/prog_books_da_project/blob/master/Books_About_Programming.ipynb\" target=\"_parent\"><img src=\"https://colab.research.google.com/assets/colab-badge.svg\" alt=\"Open In Colab\"/></a>"
      ]
    },
    {
      "cell_type": "code",
      "metadata": {
        "id": "WIGYQUBmmvYi"
      },
      "source": [
        "# Import necessary libraries\n",
        "import re\n",
        "import numpy as np\n",
        "import pandas as pd\n",
        "import seaborn as sns\n",
        "%matplotlib inline\n",
        "import matplotlib.pyplot as plt\n",
        "\n",
        "# Set default graph size and general appearance\n",
        "plt.style.use('ggplot')\n",
        "plt.rcParams['figure.figsize'] = (10, 5)\n",
        "plt.rcParams['font.family'] = 'sans-serif'\n"
      ],
      "execution_count": 320,
      "outputs": []
    },
    {
      "cell_type": "code",
      "metadata": {
        "id": "BJuzWVoNnKWA"
      },
      "source": [
        "# Import dataset and store it as a pandas dataframe\n",
        "df = pd.read_csv('https://raw.githubusercontent.com/codeofarmour/prog_books_da_project/master/prog_book.csv')"
      ],
      "execution_count": 321,
      "outputs": []
    },
    {
      "cell_type": "code",
      "metadata": {
        "colab": {
          "base_uri": "https://localhost:8080/",
          "height": 419
        },
        "id": "wAsVmcD9na6U",
        "outputId": "e8ab6418-601d-4bd1-b7ff-9b0e7da8a342"
      },
      "source": [
        "# Display the first and last five rows\n",
        "df"
      ],
      "execution_count": 322,
      "outputs": [
        {
          "output_type": "execute_result",
          "data": {
            "text/html": [
              "<div>\n",
              "<style scoped>\n",
              "    .dataframe tbody tr th:only-of-type {\n",
              "        vertical-align: middle;\n",
              "    }\n",
              "\n",
              "    .dataframe tbody tr th {\n",
              "        vertical-align: top;\n",
              "    }\n",
              "\n",
              "    .dataframe thead th {\n",
              "        text-align: right;\n",
              "    }\n",
              "</style>\n",
              "<table border=\"1\" class=\"dataframe\">\n",
              "  <thead>\n",
              "    <tr style=\"text-align: right;\">\n",
              "      <th></th>\n",
              "      <th>Rating</th>\n",
              "      <th>Reviews</th>\n",
              "      <th>Book_title</th>\n",
              "      <th>Description</th>\n",
              "      <th>Number_Of_Pages</th>\n",
              "      <th>Type</th>\n",
              "      <th>Price</th>\n",
              "    </tr>\n",
              "  </thead>\n",
              "  <tbody>\n",
              "    <tr>\n",
              "      <th>0</th>\n",
              "      <td>4.17</td>\n",
              "      <td>3,829</td>\n",
              "      <td>The Elements of Style</td>\n",
              "      <td>This style manual offers practical advice on i...</td>\n",
              "      <td>105</td>\n",
              "      <td>Hardcover</td>\n",
              "      <td>9.323529</td>\n",
              "    </tr>\n",
              "    <tr>\n",
              "      <th>1</th>\n",
              "      <td>4.01</td>\n",
              "      <td>1,406</td>\n",
              "      <td>The Information: A History, a Theory, a Flood</td>\n",
              "      <td>James Gleick, the author of the best sellers C...</td>\n",
              "      <td>527</td>\n",
              "      <td>Hardcover</td>\n",
              "      <td>11.000000</td>\n",
              "    </tr>\n",
              "    <tr>\n",
              "      <th>2</th>\n",
              "      <td>3.33</td>\n",
              "      <td>0</td>\n",
              "      <td>Responsive Web Design Overview For Beginners</td>\n",
              "      <td>In Responsive Web Design Overview For Beginner...</td>\n",
              "      <td>50</td>\n",
              "      <td>Kindle Edition</td>\n",
              "      <td>11.267647</td>\n",
              "    </tr>\n",
              "    <tr>\n",
              "      <th>3</th>\n",
              "      <td>3.97</td>\n",
              "      <td>1,658</td>\n",
              "      <td>Ghost in the Wires: My Adventures as the World...</td>\n",
              "      <td>If they were a hall of fame or shame for compu...</td>\n",
              "      <td>393</td>\n",
              "      <td>Hardcover</td>\n",
              "      <td>12.873529</td>\n",
              "    </tr>\n",
              "    <tr>\n",
              "      <th>4</th>\n",
              "      <td>4.06</td>\n",
              "      <td>1,325</td>\n",
              "      <td>How Google Works</td>\n",
              "      <td>Both Eric Schmidt and Jonathan Rosenberg came ...</td>\n",
              "      <td>305</td>\n",
              "      <td>Kindle Edition</td>\n",
              "      <td>13.164706</td>\n",
              "    </tr>\n",
              "    <tr>\n",
              "      <th>...</th>\n",
              "      <td>...</td>\n",
              "      <td>...</td>\n",
              "      <td>...</td>\n",
              "      <td>...</td>\n",
              "      <td>...</td>\n",
              "      <td>...</td>\n",
              "      <td>...</td>\n",
              "    </tr>\n",
              "    <tr>\n",
              "      <th>266</th>\n",
              "      <td>3.76</td>\n",
              "      <td>0</td>\n",
              "      <td>3D Game Engine Architecture: Engineering Real-...</td>\n",
              "      <td>Dave Eberly's 3D Game Engine Design was the fi...</td>\n",
              "      <td>752</td>\n",
              "      <td>Hardcover</td>\n",
              "      <td>203.108823</td>\n",
              "    </tr>\n",
              "    <tr>\n",
              "      <th>267</th>\n",
              "      <td>3.94</td>\n",
              "      <td>22</td>\n",
              "      <td>An Introduction to Database Systems</td>\n",
              "      <td>Continuing in the eighth edition, An Introduct...</td>\n",
              "      <td>1040</td>\n",
              "      <td>Paperback</td>\n",
              "      <td>212.097059</td>\n",
              "    </tr>\n",
              "    <tr>\n",
              "      <th>268</th>\n",
              "      <td>4.49</td>\n",
              "      <td>36</td>\n",
              "      <td>The Art of Computer Programming, Volumes 1-3 B...</td>\n",
              "      <td>Knuth's classic work has been widely acclaimed...</td>\n",
              "      <td>896</td>\n",
              "      <td>Boxed Set - Hardcover</td>\n",
              "      <td>220.385294</td>\n",
              "    </tr>\n",
              "    <tr>\n",
              "      <th>269</th>\n",
              "      <td>4.77</td>\n",
              "      <td>4</td>\n",
              "      <td>The Art of Computer Programming, Volumes 1-4a ...</td>\n",
              "      <td>\"The bible of all fundamental algorithms and t...</td>\n",
              "      <td>3168</td>\n",
              "      <td>Hardcover</td>\n",
              "      <td>220.385294</td>\n",
              "    </tr>\n",
              "    <tr>\n",
              "      <th>270</th>\n",
              "      <td>3.84</td>\n",
              "      <td>5</td>\n",
              "      <td>A Discipline for Software Engineering</td>\n",
              "      <td>Designed to help individual programmers develo...</td>\n",
              "      <td>789</td>\n",
              "      <td>Hardcover</td>\n",
              "      <td>235.650000</td>\n",
              "    </tr>\n",
              "  </tbody>\n",
              "</table>\n",
              "<p>271 rows × 7 columns</p>\n",
              "</div>"
            ],
            "text/plain": [
              "     Rating Reviews  ...                   Type       Price\n",
              "0      4.17   3,829  ...              Hardcover    9.323529\n",
              "1      4.01   1,406  ...              Hardcover   11.000000\n",
              "2      3.33       0  ...         Kindle Edition   11.267647\n",
              "3      3.97   1,658  ...              Hardcover   12.873529\n",
              "4      4.06   1,325  ...         Kindle Edition   13.164706\n",
              "..      ...     ...  ...                    ...         ...\n",
              "266    3.76       0  ...              Hardcover  203.108823\n",
              "267    3.94      22  ...              Paperback  212.097059\n",
              "268    4.49      36  ...  Boxed Set - Hardcover  220.385294\n",
              "269    4.77       4  ...              Hardcover  220.385294\n",
              "270    3.84       5  ...              Hardcover  235.650000\n",
              "\n",
              "[271 rows x 7 columns]"
            ]
          },
          "metadata": {},
          "execution_count": 322
        }
      ]
    },
    {
      "cell_type": "code",
      "metadata": {
        "colab": {
          "base_uri": "https://localhost:8080/"
        },
        "id": "SJz2_gDf0LiS",
        "outputId": "08d7a8bc-c9bd-416b-aaef-f244710ad487"
      },
      "source": [
        "# Check for missing values\n",
        "df.isna().sum()"
      ],
      "execution_count": 323,
      "outputs": [
        {
          "output_type": "execute_result",
          "data": {
            "text/plain": [
              "Rating             0\n",
              "Reviews            0\n",
              "Book_title         0\n",
              "Description        0\n",
              "Number_Of_Pages    0\n",
              "Type               0\n",
              "Price              0\n",
              "dtype: int64"
            ]
          },
          "metadata": {},
          "execution_count": 323
        }
      ]
    },
    {
      "cell_type": "code",
      "metadata": {
        "colab": {
          "base_uri": "https://localhost:8080/"
        },
        "id": "BvGYTVuU0Whw",
        "outputId": "10df453b-f34f-49ac-c63f-fc149a0fa057"
      },
      "source": [
        "# Check for duplicate rows\n",
        "df.duplicated().sum()"
      ],
      "execution_count": 324,
      "outputs": [
        {
          "output_type": "execute_result",
          "data": {
            "text/plain": [
              "0"
            ]
          },
          "metadata": {},
          "execution_count": 324
        }
      ]
    },
    {
      "cell_type": "code",
      "metadata": {
        "colab": {
          "base_uri": "https://localhost:8080/"
        },
        "id": "YZkJYgqvno2Y",
        "outputId": "7e475786-db77-4b45-faf3-33e86aacec53"
      },
      "source": [
        "# Display DataFrame info in detail: row count, column count, column names, non-null values, datatypes, and memory usage\n",
        "df.info()"
      ],
      "execution_count": 325,
      "outputs": [
        {
          "output_type": "stream",
          "name": "stdout",
          "text": [
            "<class 'pandas.core.frame.DataFrame'>\n",
            "RangeIndex: 271 entries, 0 to 270\n",
            "Data columns (total 7 columns):\n",
            " #   Column           Non-Null Count  Dtype  \n",
            "---  ------           --------------  -----  \n",
            " 0   Rating           271 non-null    float64\n",
            " 1   Reviews          271 non-null    object \n",
            " 2   Book_title       271 non-null    object \n",
            " 3   Description      271 non-null    object \n",
            " 4   Number_Of_Pages  271 non-null    int64  \n",
            " 5   Type             271 non-null    object \n",
            " 6   Price            271 non-null    float64\n",
            "dtypes: float64(2), int64(1), object(4)\n",
            "memory usage: 14.9+ KB\n"
          ]
        }
      ]
    },
    {
      "cell_type": "code",
      "metadata": {
        "id": "kLHvsej8xUQs"
      },
      "source": [
        "# 'Reviews' are type object but should be type int64\n",
        "# Must first remove ',' from the str object before converting it to an int\n",
        "df['Reviews'] = df['Reviews'].str.replace(',', '')\n",
        "\n",
        "# Convert 'Reviews' str type to type int64\n",
        "df['Reviews'] = df['Reviews'].astype('int64')"
      ],
      "execution_count": 326,
      "outputs": []
    },
    {
      "cell_type": "code",
      "metadata": {
        "colab": {
          "base_uri": "https://localhost:8080/"
        },
        "id": "bamdnRizyZ8i",
        "outputId": "78a9db91-9d57-4c0e-82a8-0f142e4d899e"
      },
      "source": [
        "# Verify that type conversion has occurred\n",
        "df.dtypes['Reviews']"
      ],
      "execution_count": 327,
      "outputs": [
        {
          "output_type": "execute_result",
          "data": {
            "text/plain": [
              "dtype('int64')"
            ]
          },
          "metadata": {},
          "execution_count": 327
        }
      ]
    },
    {
      "cell_type": "code",
      "metadata": {
        "id": "ipL2Pr4xzvi3"
      },
      "source": [
        "# Rename specific columns for brevity and clarity\n",
        "df.rename(columns={'Book_title': 'Title', 'Number_Of_Pages': 'Pages'}, inplace=True)"
      ],
      "execution_count": 328,
      "outputs": []
    },
    {
      "cell_type": "code",
      "metadata": {
        "colab": {
          "base_uri": "https://localhost:8080/"
        },
        "id": "wNKNAaQU4cvs",
        "outputId": "50564aaf-eb09-480c-9665-9fd0e9df4ad6"
      },
      "source": [
        "# Verify that the renaming of columns was successful\n",
        "df.columns[2:5:2]"
      ],
      "execution_count": 329,
      "outputs": [
        {
          "output_type": "execute_result",
          "data": {
            "text/plain": [
              "Index(['Title', 'Pages'], dtype='object')"
            ]
          },
          "metadata": {},
          "execution_count": 329
        }
      ]
    },
    {
      "cell_type": "code",
      "metadata": {
        "colab": {
          "base_uri": "https://localhost:8080/",
          "height": 297
        },
        "id": "dXHh74T0n5gf",
        "outputId": "0291c464-13f5-4eac-f165-b74ec029907d"
      },
      "source": [
        "# Display statistics of numerical columns\n",
        "df.describe()"
      ],
      "execution_count": 330,
      "outputs": [
        {
          "output_type": "execute_result",
          "data": {
            "text/html": [
              "<div>\n",
              "<style scoped>\n",
              "    .dataframe tbody tr th:only-of-type {\n",
              "        vertical-align: middle;\n",
              "    }\n",
              "\n",
              "    .dataframe tbody tr th {\n",
              "        vertical-align: top;\n",
              "    }\n",
              "\n",
              "    .dataframe thead th {\n",
              "        text-align: right;\n",
              "    }\n",
              "</style>\n",
              "<table border=\"1\" class=\"dataframe\">\n",
              "  <thead>\n",
              "    <tr style=\"text-align: right;\">\n",
              "      <th></th>\n",
              "      <th>Rating</th>\n",
              "      <th>Reviews</th>\n",
              "      <th>Pages</th>\n",
              "      <th>Price</th>\n",
              "    </tr>\n",
              "  </thead>\n",
              "  <tbody>\n",
              "    <tr>\n",
              "      <th>count</th>\n",
              "      <td>271.000000</td>\n",
              "      <td>271.000000</td>\n",
              "      <td>271.000000</td>\n",
              "      <td>271.000000</td>\n",
              "    </tr>\n",
              "    <tr>\n",
              "      <th>mean</th>\n",
              "      <td>4.067417</td>\n",
              "      <td>185.557196</td>\n",
              "      <td>475.077491</td>\n",
              "      <td>54.541860</td>\n",
              "    </tr>\n",
              "    <tr>\n",
              "      <th>std</th>\n",
              "      <td>0.290749</td>\n",
              "      <td>552.122252</td>\n",
              "      <td>306.147492</td>\n",
              "      <td>35.711485</td>\n",
              "    </tr>\n",
              "    <tr>\n",
              "      <th>min</th>\n",
              "      <td>3.000000</td>\n",
              "      <td>0.000000</td>\n",
              "      <td>50.000000</td>\n",
              "      <td>9.323529</td>\n",
              "    </tr>\n",
              "    <tr>\n",
              "      <th>25%</th>\n",
              "      <td>3.915000</td>\n",
              "      <td>5.500000</td>\n",
              "      <td>289.000000</td>\n",
              "      <td>30.751471</td>\n",
              "    </tr>\n",
              "    <tr>\n",
              "      <th>50%</th>\n",
              "      <td>4.100000</td>\n",
              "      <td>35.000000</td>\n",
              "      <td>384.000000</td>\n",
              "      <td>46.317647</td>\n",
              "    </tr>\n",
              "    <tr>\n",
              "      <th>75%</th>\n",
              "      <td>4.250000</td>\n",
              "      <td>116.500000</td>\n",
              "      <td>572.500000</td>\n",
              "      <td>67.854412</td>\n",
              "    </tr>\n",
              "    <tr>\n",
              "      <th>max</th>\n",
              "      <td>5.000000</td>\n",
              "      <td>5938.000000</td>\n",
              "      <td>3168.000000</td>\n",
              "      <td>235.650000</td>\n",
              "    </tr>\n",
              "  </tbody>\n",
              "</table>\n",
              "</div>"
            ],
            "text/plain": [
              "           Rating      Reviews        Pages       Price\n",
              "count  271.000000   271.000000   271.000000  271.000000\n",
              "mean     4.067417   185.557196   475.077491   54.541860\n",
              "std      0.290749   552.122252   306.147492   35.711485\n",
              "min      3.000000     0.000000    50.000000    9.323529\n",
              "25%      3.915000     5.500000   289.000000   30.751471\n",
              "50%      4.100000    35.000000   384.000000   46.317647\n",
              "75%      4.250000   116.500000   572.500000   67.854412\n",
              "max      5.000000  5938.000000  3168.000000  235.650000"
            ]
          },
          "metadata": {},
          "execution_count": 330
        }
      ]
    },
    {
      "cell_type": "code",
      "metadata": {
        "id": "SCgddbKcoHTx"
      },
      "source": [
        "# Round Price column to two decimal points\n",
        "df['Price'] = df['Price'].apply(lambda x: round(x, ndigits=2))"
      ],
      "execution_count": 331,
      "outputs": []
    },
    {
      "cell_type": "code",
      "metadata": {
        "colab": {
          "base_uri": "https://localhost:8080/",
          "height": 111
        },
        "id": "QlX_rA0Mc8Hs",
        "outputId": "0fbec9f2-048e-4b75-aab5-33416677a154"
      },
      "source": [
        "# Verify Price looks as it should\n",
        "df.head(2)"
      ],
      "execution_count": 332,
      "outputs": [
        {
          "output_type": "execute_result",
          "data": {
            "text/html": [
              "<div>\n",
              "<style scoped>\n",
              "    .dataframe tbody tr th:only-of-type {\n",
              "        vertical-align: middle;\n",
              "    }\n",
              "\n",
              "    .dataframe tbody tr th {\n",
              "        vertical-align: top;\n",
              "    }\n",
              "\n",
              "    .dataframe thead th {\n",
              "        text-align: right;\n",
              "    }\n",
              "</style>\n",
              "<table border=\"1\" class=\"dataframe\">\n",
              "  <thead>\n",
              "    <tr style=\"text-align: right;\">\n",
              "      <th></th>\n",
              "      <th>Rating</th>\n",
              "      <th>Reviews</th>\n",
              "      <th>Title</th>\n",
              "      <th>Description</th>\n",
              "      <th>Pages</th>\n",
              "      <th>Type</th>\n",
              "      <th>Price</th>\n",
              "    </tr>\n",
              "  </thead>\n",
              "  <tbody>\n",
              "    <tr>\n",
              "      <th>0</th>\n",
              "      <td>4.17</td>\n",
              "      <td>3829</td>\n",
              "      <td>The Elements of Style</td>\n",
              "      <td>This style manual offers practical advice on i...</td>\n",
              "      <td>105</td>\n",
              "      <td>Hardcover</td>\n",
              "      <td>9.32</td>\n",
              "    </tr>\n",
              "    <tr>\n",
              "      <th>1</th>\n",
              "      <td>4.01</td>\n",
              "      <td>1406</td>\n",
              "      <td>The Information: A History, a Theory, a Flood</td>\n",
              "      <td>James Gleick, the author of the best sellers C...</td>\n",
              "      <td>527</td>\n",
              "      <td>Hardcover</td>\n",
              "      <td>11.00</td>\n",
              "    </tr>\n",
              "  </tbody>\n",
              "</table>\n",
              "</div>"
            ],
            "text/plain": [
              "   Rating  Reviews  ...       Type  Price\n",
              "0    4.17     3829  ...  Hardcover   9.32\n",
              "1    4.01     1406  ...  Hardcover  11.00\n",
              "\n",
              "[2 rows x 7 columns]"
            ]
          },
          "metadata": {},
          "execution_count": 332
        }
      ]
    },
    {
      "cell_type": "code",
      "metadata": {
        "colab": {
          "base_uri": "https://localhost:8080/"
        },
        "id": "hpaCILJqoXLX",
        "outputId": "4aa20c17-2460-4492-bab9-c5a0b28ef082"
      },
      "source": [
        "# Display how many of each type of book in entire dataset\n",
        "df['Type'].value_counts()"
      ],
      "execution_count": 333,
      "outputs": [
        {
          "output_type": "execute_result",
          "data": {
            "text/plain": [
              "Paperback                156\n",
              "Hardcover                 95\n",
              "Kindle Edition            10\n",
              "ebook                      7\n",
              "Unknown Binding            2\n",
              "Boxed Set - Hardcover      1\n",
              "Name: Type, dtype: int64"
            ]
          },
          "metadata": {},
          "execution_count": 333
        }
      ]
    },
    {
      "cell_type": "code",
      "metadata": {
        "id": "58f8T_oBrUu_"
      },
      "source": [
        "ratings = df.groupby('Type').sum()"
      ],
      "execution_count": 334,
      "outputs": []
    },
    {
      "cell_type": "code",
      "metadata": {
        "colab": {
          "base_uri": "https://localhost:8080/",
          "height": 455
        },
        "id": "RvNxvqCQo1Rg",
        "outputId": "b5919017-5d8b-477c-be22-8c320b0925e8"
      },
      "source": [
        "# Question 1: What is the distribution of customer ratings?\n",
        "# Bar chart to compare distribution of customer ratings per book type\n",
        "\n",
        "types = [type for type, df in df.groupby('Type')]\n",
        "\n",
        "plt.bar(types, ratings['Rating'])\n",
        "\n",
        "plt.title('Distribution of Customer Ratings')\n",
        "plt.xticks(types, rotation='vertical')\n",
        "plt.xlabel('Book Type')\n",
        "plt.ylabel('Number of Ratings')\n",
        "\n",
        "plt.show()\n"
      ],
      "execution_count": 335,
      "outputs": [
        {
          "output_type": "display_data",
          "data": {
            "image/png": "[encoded data removed]",
            "text/plain": [
              "<Figure size 720x360 with 1 Axes>"
            ]
          },
          "metadata": {}
        }
      ]
    },
    {
      "cell_type": "code",
      "metadata": {
        "colab": {
          "base_uri": "https://localhost:8080/",
          "height": 391
        },
        "id": "UpJqgzUjr8Fv",
        "outputId": "23dcc141-1d63-400f-8251-e4791fc30894"
      },
      "source": [
        "# Plot the mean rating\n",
        "plt.axvline(x = np.mean(df['Rating']), ls='--', label='Mean')\n",
        "sns.distplot(df['Rating'])\n",
        "\n",
        "plt.legend()\n",
        "plt.show()"
      ],
      "execution_count": 358,
      "outputs": [
        {
          "output_type": "stream",
          "name": "stderr",
          "text": [
            "/usr/local/lib/python3.7/dist-packages/seaborn/distributions.py:2619: FutureWarning: `distplot` is a deprecated function and will be removed in a future version. Please adapt your code to use either `displot` (a figure-level function with similar flexibility) or `histplot` (an axes-level function for histograms).\n",
            "  warnings.warn(msg, FutureWarning)\n"
          ]
        },
        {
          "output_type": "display_data",
          "data": {
            "image/png": "[encoded data removed]",
            "text/plain": [
              "<Figure size 720x360 with 1 Axes>"
            ]
          },
          "metadata": {}
        }
      ]
    },
    {
      "cell_type": "code",
      "metadata": {
        "colab": {
          "base_uri": "https://localhost:8080/",
          "height": 448
        },
        "id": "PUn6942oCpc_",
        "outputId": "4098758c-5d99-4984-c647-4c7be3e0f79b"
      },
      "source": [
        "# Plot the mean rating by Type\n",
        "mean_of_type = df.groupby('Type').mean().sort_values(by='Rating', ascending = False)\n",
        "\n",
        "# plt.figure(figsize=(10, 5))\n",
        "mean_bar = sns.barplot(x=mean_of_type.index, y = 'Rating', data = mean_of_type, palette = 'tab20c')\n",
        "mean_bar.set_title('Mean ratings by Type', fontsize = 15)\n",
        "mean_bar.set_xticklabels(graph.get_xticklabels(), rotation = 45, horizontalalignment = 'center')\n",
        "\n",
        "mean_bar"
      ],
      "execution_count": 337,
      "outputs": [
        {
          "output_type": "execute_result",
          "data": {
            "text/plain": [
              "<matplotlib.axes._subplots.AxesSubplot at 0x7f036e1e1f50>"
            ]
          },
          "metadata": {},
          "execution_count": 337
        },
        {
          "output_type": "display_data",
          "data": {
            "image/png": "[encoded data removed]",
            "text/plain": [
              "<Figure size 720x360 with 1 Axes>"
            ]
          },
          "metadata": {}
        }
      ]
    },
    {
      "cell_type": "code",
      "metadata": {
        "id": "z_-Kx_jjhpt_"
      },
      "source": [
        "# Median ratings by Type \n",
        "median_of_type = df.groupby('Type').median().sort_values(by='Rating', ascending = False)"
      ],
      "execution_count": 338,
      "outputs": []
    },
    {
      "cell_type": "code",
      "metadata": {
        "colab": {
          "base_uri": "https://localhost:8080/"
        },
        "id": "XEB0lQM-jmsp",
        "outputId": "9e93f782-ca12-440e-cca2-d051a641b344"
      },
      "source": [
        "# Mean price of programming books in this dataset\n",
        "mean_df_price = df['Price'].mean()\n",
        "mean_df_price = round(mean_df_price)\n",
        "mean_df_price"
      ],
      "execution_count": 339,
      "outputs": [
        {
          "output_type": "execute_result",
          "data": {
            "text/plain": [
              "55"
            ]
          },
          "metadata": {},
          "execution_count": 339
        }
      ]
    },
    {
      "cell_type": "code",
      "metadata": {
        "colab": {
          "base_uri": "https://localhost:8080/"
        },
        "id": "229oStiKmQlH",
        "outputId": "e76f43b6-7c1b-4a63-c08f-6da8c3468649"
      },
      "source": [
        "# Median price of programming books in this dataset\n",
        "median_df_price = df['Price'].median()\n",
        "median_df_price = round(median_df_price)\n",
        "median_df_price"
      ],
      "execution_count": 340,
      "outputs": [
        {
          "output_type": "execute_result",
          "data": {
            "text/plain": [
              "46"
            ]
          },
          "metadata": {},
          "execution_count": 340
        }
      ]
    },
    {
      "cell_type": "code",
      "metadata": {
        "colab": {
          "base_uri": "https://localhost:8080/"
        },
        "id": "zSRD3vCKmjVJ",
        "outputId": "ea866860-d9e8-4089-83f3-6907d50664ee"
      },
      "source": [
        "# Mode price of programming books in this dataset\n",
        "mode_df_price = df['Price'].mode()\n",
        "mode_df_price = round(mode_df_price)\n",
        "mode_df_price"
      ],
      "execution_count": 341,
      "outputs": [
        {
          "output_type": "execute_result",
          "data": {
            "text/plain": [
              "0    51.0\n",
              "dtype: float64"
            ]
          },
          "metadata": {},
          "execution_count": 341
        }
      ]
    },
    {
      "cell_type": "code",
      "metadata": {
        "colab": {
          "base_uri": "https://localhost:8080/"
        },
        "id": "uyCJtLhOpQzg",
        "outputId": "ee31c4fd-6d0e-4923-c252-08dc27a33763"
      },
      "source": [
        "price = df['Price']\n",
        "price"
      ],
      "execution_count": 342,
      "outputs": [
        {
          "output_type": "execute_result",
          "data": {
            "text/plain": [
              "0        9.32\n",
              "1       11.00\n",
              "2       11.27\n",
              "3       12.87\n",
              "4       13.16\n",
              "        ...  \n",
              "266    203.11\n",
              "267    212.10\n",
              "268    220.39\n",
              "269    220.39\n",
              "270    235.65\n",
              "Name: Price, Length: 271, dtype: float64"
            ]
          },
          "metadata": {},
          "execution_count": 342
        }
      ]
    },
    {
      "cell_type": "code",
      "metadata": {
        "colab": {
          "base_uri": "https://localhost:8080/"
        },
        "id": "SUYQOQ2d6RST",
        "outputId": "e5490ba5-8650-4015-aa63-ac84172cfe8d"
      },
      "source": [
        "# Calculate measures of central tendency (mean, median, mode)\n",
        "df.mean()"
      ],
      "execution_count": 343,
      "outputs": [
        {
          "output_type": "execute_result",
          "data": {
            "text/plain": [
              "Rating       4.067417\n",
              "Reviews    185.557196\n",
              "Pages      475.077491\n",
              "Price       54.541661\n",
              "dtype: float64"
            ]
          },
          "metadata": {},
          "execution_count": 343
        }
      ]
    },
    {
      "cell_type": "code",
      "metadata": {
        "colab": {
          "base_uri": "https://localhost:8080/",
          "height": 371
        },
        "id": "IxphO4Rw62sE",
        "outputId": "d78a74e4-2d9e-4230-8873-3b95297165ba"
      },
      "source": [
        "# Question 1: What is the distribution of price per book\n",
        "plt.hist(data=df, x='Price')\n",
        "plt.title('Distribution of Price per Book')\n",
        "plt.xlabel('Price per book')\n",
        "plt.ylabel('Books')"
      ],
      "execution_count": 344,
      "outputs": [
        {
          "output_type": "execute_result",
          "data": {
            "text/plain": [
              "Text(0, 0.5, 'Books')"
            ]
          },
          "metadata": {},
          "execution_count": 344
        },
        {
          "output_type": "display_data",
          "data": {
            "image/png": "[encoded data removed]",
            "text/plain": [
              "<Figure size 720x360 with 1 Axes>"
            ]
          },
          "metadata": {}
        }
      ]
    },
    {
      "cell_type": "code",
      "metadata": {
        "colab": {
          "base_uri": "https://localhost:8080/",
          "height": 419
        },
        "id": "8unpmYAC7Be3",
        "outputId": "8196d0ef-34c8-4ec7-d424-6a7b8896393b"
      },
      "source": [
        "df.round(2).mode()"
      ],
      "execution_count": 345,
      "outputs": [
        {
          "output_type": "execute_result",
          "data": {
            "text/html": [
              "<div>\n",
              "<style scoped>\n",
              "    .dataframe tbody tr th:only-of-type {\n",
              "        vertical-align: middle;\n",
              "    }\n",
              "\n",
              "    .dataframe tbody tr th {\n",
              "        vertical-align: top;\n",
              "    }\n",
              "\n",
              "    .dataframe thead th {\n",
              "        text-align: right;\n",
              "    }\n",
              "</style>\n",
              "<table border=\"1\" class=\"dataframe\">\n",
              "  <thead>\n",
              "    <tr style=\"text-align: right;\">\n",
              "      <th></th>\n",
              "      <th>Rating</th>\n",
              "      <th>Reviews</th>\n",
              "      <th>Title</th>\n",
              "      <th>Description</th>\n",
              "      <th>Pages</th>\n",
              "      <th>Type</th>\n",
              "      <th>Price</th>\n",
              "    </tr>\n",
              "  </thead>\n",
              "  <tbody>\n",
              "    <tr>\n",
              "      <th>0</th>\n",
              "      <td>4.15</td>\n",
              "      <td>0.0</td>\n",
              "      <td>3D Game Engine Architecture: Engineering Real-...</td>\n",
              "      <td>Learn You a Haskell for Great Good! is a fun, ...</td>\n",
              "      <td>288.0</td>\n",
              "      <td>Paperback</td>\n",
              "      <td>51.47</td>\n",
              "    </tr>\n",
              "    <tr>\n",
              "      <th>1</th>\n",
              "      <td>NaN</td>\n",
              "      <td>NaN</td>\n",
              "      <td>3D Game Engine Design: A Practical Approach to...</td>\n",
              "      <td>NaN</td>\n",
              "      <td>320.0</td>\n",
              "      <td>NaN</td>\n",
              "      <td>NaN</td>\n",
              "    </tr>\n",
              "    <tr>\n",
              "      <th>2</th>\n",
              "      <td>NaN</td>\n",
              "      <td>NaN</td>\n",
              "      <td>3D Math Primer for Graphics and Game Development</td>\n",
              "      <td>NaN</td>\n",
              "      <td>NaN</td>\n",
              "      <td>NaN</td>\n",
              "      <td>NaN</td>\n",
              "    </tr>\n",
              "    <tr>\n",
              "      <th>3</th>\n",
              "      <td>NaN</td>\n",
              "      <td>NaN</td>\n",
              "      <td>97 Things Every Programmer Should Know: Collec...</td>\n",
              "      <td>NaN</td>\n",
              "      <td>NaN</td>\n",
              "      <td>NaN</td>\n",
              "      <td>NaN</td>\n",
              "    </tr>\n",
              "    <tr>\n",
              "      <th>4</th>\n",
              "      <td>NaN</td>\n",
              "      <td>NaN</td>\n",
              "      <td>A Discipline for Software Engineering</td>\n",
              "      <td>NaN</td>\n",
              "      <td>NaN</td>\n",
              "      <td>NaN</td>\n",
              "      <td>NaN</td>\n",
              "    </tr>\n",
              "    <tr>\n",
              "      <th>...</th>\n",
              "      <td>...</td>\n",
              "      <td>...</td>\n",
              "      <td>...</td>\n",
              "      <td>...</td>\n",
              "      <td>...</td>\n",
              "      <td>...</td>\n",
              "      <td>...</td>\n",
              "    </tr>\n",
              "    <tr>\n",
              "      <th>266</th>\n",
              "      <td>NaN</td>\n",
              "      <td>NaN</td>\n",
              "      <td>What Is Life? with Mind and Matter and Autobio...</td>\n",
              "      <td>NaN</td>\n",
              "      <td>NaN</td>\n",
              "      <td>NaN</td>\n",
              "      <td>NaN</td>\n",
              "    </tr>\n",
              "    <tr>\n",
              "      <th>267</th>\n",
              "      <td>NaN</td>\n",
              "      <td>NaN</td>\n",
              "      <td>Working Effectively with Legacy Code</td>\n",
              "      <td>NaN</td>\n",
              "      <td>NaN</td>\n",
              "      <td>NaN</td>\n",
              "      <td>NaN</td>\n",
              "    </tr>\n",
              "    <tr>\n",
              "      <th>268</th>\n",
              "      <td>NaN</td>\n",
              "      <td>NaN</td>\n",
              "      <td>Your First App: Node.js</td>\n",
              "      <td>NaN</td>\n",
              "      <td>NaN</td>\n",
              "      <td>NaN</td>\n",
              "      <td>NaN</td>\n",
              "    </tr>\n",
              "    <tr>\n",
              "      <th>269</th>\n",
              "      <td>NaN</td>\n",
              "      <td>NaN</td>\n",
              "      <td>ZX Spectrum Games Code Club: Twenty fun games ...</td>\n",
              "      <td>NaN</td>\n",
              "      <td>NaN</td>\n",
              "      <td>NaN</td>\n",
              "      <td>NaN</td>\n",
              "    </tr>\n",
              "    <tr>\n",
              "      <th>270</th>\n",
              "      <td>NaN</td>\n",
              "      <td>NaN</td>\n",
              "      <td>xUnit Test Patterns: Refactoring Test Code</td>\n",
              "      <td>NaN</td>\n",
              "      <td>NaN</td>\n",
              "      <td>NaN</td>\n",
              "      <td>NaN</td>\n",
              "    </tr>\n",
              "  </tbody>\n",
              "</table>\n",
              "<p>271 rows × 7 columns</p>\n",
              "</div>"
            ],
            "text/plain": [
              "     Rating  Reviews  ...       Type  Price\n",
              "0      4.15      0.0  ...  Paperback  51.47\n",
              "1       NaN      NaN  ...        NaN    NaN\n",
              "2       NaN      NaN  ...        NaN    NaN\n",
              "3       NaN      NaN  ...        NaN    NaN\n",
              "4       NaN      NaN  ...        NaN    NaN\n",
              "..      ...      ...  ...        ...    ...\n",
              "266     NaN      NaN  ...        NaN    NaN\n",
              "267     NaN      NaN  ...        NaN    NaN\n",
              "268     NaN      NaN  ...        NaN    NaN\n",
              "269     NaN      NaN  ...        NaN    NaN\n",
              "270     NaN      NaN  ...        NaN    NaN\n",
              "\n",
              "[271 rows x 7 columns]"
            ]
          },
          "metadata": {},
          "execution_count": 345
        }
      ]
    },
    {
      "cell_type": "code",
      "metadata": {
        "colab": {
          "base_uri": "https://localhost:8080/",
          "height": 490
        },
        "id": "KS-zLT9qua3b",
        "outputId": "281bf628-a1f6-4a00-e724-301ab6544d29"
      },
      "source": [
        "# Question 2: What is the distribution of customer reviews?\n",
        "keys = [type for type, df in df.groupby(['Type'])]\n",
        "\n",
        "plt.bar(keys, df.groupby(['Type']).sum()['Reviews'])\n",
        "\n",
        "plt.title('Distribution of Customer Reviews')\n",
        "plt.xlabel('Type of Book')\n",
        "plt.ylabel('Total Number of Reviews')\n",
        "plt.xticks(keys, rotation='vertical', size=13)\n",
        "\n",
        "plt.show()\n"
      ],
      "execution_count": 347,
      "outputs": [
        {
          "output_type": "display_data",
          "data": {
            "image/png": "[encoded data removed]",
            "text/plain": [
              "<Figure size 720x360 with 1 Axes>"
            ]
          },
          "metadata": {}
        }
      ]
    },
    {
      "cell_type": "code",
      "metadata": {
        "colab": {
          "base_uri": "https://localhost:8080/",
          "height": 408
        },
        "id": "yIxYva4B-cZg",
        "outputId": "541892ba-b7bd-4012-8dc7-ec3e343dc166"
      },
      "source": [
        "# Question 3: What is the mean rating?\n",
        "plt.axvline(x = np.mean(df['Reviews']))\n",
        "sns.distplot(df['Reviews'])"
      ],
      "execution_count": 356,
      "outputs": [
        {
          "output_type": "stream",
          "name": "stderr",
          "text": [
            "/usr/local/lib/python3.7/dist-packages/seaborn/distributions.py:2619: FutureWarning: `distplot` is a deprecated function and will be removed in a future version. Please adapt your code to use either `displot` (a figure-level function with similar flexibility) or `histplot` (an axes-level function for histograms).\n",
            "  warnings.warn(msg, FutureWarning)\n"
          ]
        },
        {
          "output_type": "execute_result",
          "data": {
            "text/plain": [
              "<matplotlib.axes._subplots.AxesSubplot at 0x7f036e61f6d0>"
            ]
          },
          "metadata": {},
          "execution_count": 356
        },
        {
          "output_type": "display_data",
          "data": {
            "image/png": "[encoded data removed]",
            "text/plain": [
              "<Figure size 720x360 with 1 Axes>"
            ]
          },
          "metadata": {}
        }
      ]
    },
    {
      "cell_type": "code",
      "metadata": {
        "colab": {
          "base_uri": "https://localhost:8080/"
        },
        "id": "qWbgCJlH_7tB",
        "outputId": "d9f7e8d2-ceb6-46a6-8e51-cbb9ccdbcce1"
      },
      "source": [
        "# Find the highest rated books in the DataFrame\n",
        "highest_rated = df.groupby('Title')['Rating'].sum().sort_values(ascending=False).head(10)\n",
        "highest_rated"
      ],
      "execution_count": 349,
      "outputs": [
        {
          "output_type": "execute_result",
          "data": {
            "text/plain": [
              "Title\n",
              "Your First App: Node.js                                                                                     5.00\n",
              "The Art of Computer Programming, Volumes 1-4a Boxed Set                                                     4.77\n",
              "Designing Data-Intensive Applications: The Big Ideas Behind Reliable, Scalable, and Maintainable Systems    4.72\n",
              "Build Web Applications with Java: Learn every aspect to build web applications from scratch                 4.67\n",
              "Fluent Python: Clear, Concise, and Effective Programming                                                    4.67\n",
              "ZX Spectrum Games Code Club: Twenty fun games to code and learn                                             4.62\n",
              "The Linux Programming Interface: A Linux and Unix System Programming Handbook                               4.62\n",
              "CLR via C# (Developer Reference)                                                                            4.58\n",
              "Practical Object Oriented Design in Ruby                                                                    4.54\n",
              "The Elements of Computing Systems: Building a Modern Computer from First Principles                         4.54\n",
              "Name: Rating, dtype: float64"
            ]
          },
          "metadata": {},
          "execution_count": 349
        }
      ]
    },
    {
      "cell_type": "code",
      "metadata": {
        "colab": {
          "base_uri": "https://localhost:8080/",
          "height": 426
        },
        "id": "hxeMrjfpdf1u",
        "outputId": "b3a170d0-2788-4f6f-a674-38bfe27851b6"
      },
      "source": [
        "# Question 4: What are the highest rated programming books?\n",
        "high_bars = sns.barplot(highest_rated, highest_rated.index)\n",
        "high_bars.set_title('Top 15 Highest Rated Programming Books', size=15)\n",
        "high_bars"
      ],
      "execution_count": 357,
      "outputs": [
        {
          "output_type": "stream",
          "name": "stderr",
          "text": [
            "/usr/local/lib/python3.7/dist-packages/seaborn/_decorators.py:43: FutureWarning: Pass the following variables as keyword args: x, y. From version 0.12, the only valid positional argument will be `data`, and passing other arguments without an explicit keyword will result in an error or misinterpretation.\n",
            "  FutureWarning\n"
          ]
        },
        {
          "output_type": "execute_result",
          "data": {
            "text/plain": [
              "<matplotlib.axes._subplots.AxesSubplot at 0x7f036eb89cd0>"
            ]
          },
          "metadata": {},
          "execution_count": 357
        },
        {
          "output_type": "display_data",
          "data": {
            "image/png": "[encoded data removed]",
            "text/plain": [
              "<Figure size 720x360 with 1 Axes>"
            ]
          },
          "metadata": {}
        }
      ]
    },
    {
      "cell_type": "code",
      "metadata": {
        "colab": {
          "base_uri": "https://localhost:8080/",
          "height": 483
        },
        "id": "VqaymOnZi6Qg",
        "outputId": "359e4e9b-4dfe-48a6-c640-2fd5dbbe49a7"
      },
      "source": [
        "# Question 5: Which books are specifically about Python?\n",
        "python_books = df[df['Title'].str.contains('Python', flags=re.IGNORECASE)]\n",
        "python_books"
      ],
      "execution_count": 351,
      "outputs": [
        {
          "output_type": "execute_result",
          "data": {
            "text/html": [
              "<div>\n",
              "<style scoped>\n",
              "    .dataframe tbody tr th:only-of-type {\n",
              "        vertical-align: middle;\n",
              "    }\n",
              "\n",
              "    .dataframe tbody tr th {\n",
              "        vertical-align: top;\n",
              "    }\n",
              "\n",
              "    .dataframe thead th {\n",
              "        text-align: right;\n",
              "    }\n",
              "</style>\n",
              "<table border=\"1\" class=\"dataframe\">\n",
              "  <thead>\n",
              "    <tr style=\"text-align: right;\">\n",
              "      <th></th>\n",
              "      <th>Rating</th>\n",
              "      <th>Reviews</th>\n",
              "      <th>Title</th>\n",
              "      <th>Description</th>\n",
              "      <th>Pages</th>\n",
              "      <th>Type</th>\n",
              "      <th>Price</th>\n",
              "    </tr>\n",
              "  </thead>\n",
              "  <tbody>\n",
              "    <tr>\n",
              "      <th>44</th>\n",
              "      <td>4.00</td>\n",
              "      <td>0</td>\n",
              "      <td>Python Programming Books Set: Python Programmi...</td>\n",
              "      <td>Quick &amp; Easy Guide to Python Programming For B...</td>\n",
              "      <td>446</td>\n",
              "      <td>Paperback</td>\n",
              "      <td>23.86</td>\n",
              "    </tr>\n",
              "    <tr>\n",
              "      <th>56</th>\n",
              "      <td>4.35</td>\n",
              "      <td>126</td>\n",
              "      <td>Python Crash Course: A Hands-On, Project-Based...</td>\n",
              "      <td>Python Crash Course is a fast-paced, thorough ...</td>\n",
              "      <td>560</td>\n",
              "      <td>Paperback</td>\n",
              "      <td>26.34</td>\n",
              "    </tr>\n",
              "    <tr>\n",
              "      <th>57</th>\n",
              "      <td>4.11</td>\n",
              "      <td>17</td>\n",
              "      <td>Invent Your Own Computer Games with Python, 3r...</td>\n",
              "      <td>Invent Your Own Computer Games with Python tea...</td>\n",
              "      <td>370</td>\n",
              "      <td>Paperback</td>\n",
              "      <td>26.92</td>\n",
              "    </tr>\n",
              "    <tr>\n",
              "      <th>64</th>\n",
              "      <td>3.91</td>\n",
              "      <td>0</td>\n",
              "      <td>Python Programming For Beginners: Quick And Ea...</td>\n",
              "      <td>Quick &amp; Easy Guide on Python Programming For B...</td>\n",
              "      <td>190</td>\n",
              "      <td>Paperback</td>\n",
              "      <td>29.02</td>\n",
              "    </tr>\n",
              "    <tr>\n",
              "      <th>75</th>\n",
              "      <td>4.27</td>\n",
              "      <td>153</td>\n",
              "      <td>Automate the Boring Stuff with Python: Practic...</td>\n",
              "      <td>If you've ever spent hours renaming files or u...</td>\n",
              "      <td>479</td>\n",
              "      <td>Paperback</td>\n",
              "      <td>33.06</td>\n",
              "    </tr>\n",
              "    <tr>\n",
              "      <th>85</th>\n",
              "      <td>4.11</td>\n",
              "      <td>125</td>\n",
              "      <td>How to Think Like a Computer Scientist: Learni...</td>\n",
              "      <td>Here you'll find a short introduction to Logo ...</td>\n",
              "      <td>288</td>\n",
              "      <td>Unknown Binding</td>\n",
              "      <td>36.13</td>\n",
              "    </tr>\n",
              "    <tr>\n",
              "      <th>95</th>\n",
              "      <td>3.87</td>\n",
              "      <td>122</td>\n",
              "      <td>Learn Python The Hard Way</td>\n",
              "      <td>This simple book is meant to give you a first ...</td>\n",
              "      <td>210</td>\n",
              "      <td>Unknown Binding</td>\n",
              "      <td>38.30</td>\n",
              "    </tr>\n",
              "    <tr>\n",
              "      <th>96</th>\n",
              "      <td>4.29</td>\n",
              "      <td>64</td>\n",
              "      <td>Effective Python: 59 Specific Ways to Write Be...</td>\n",
              "      <td>Each item in Slatkin s \"Effective Python\" teac...</td>\n",
              "      <td>227</td>\n",
              "      <td>Paperback</td>\n",
              "      <td>38.62</td>\n",
              "    </tr>\n",
              "    <tr>\n",
              "      <th>120</th>\n",
              "      <td>3.86</td>\n",
              "      <td>8</td>\n",
              "      <td>Making Games with Python &amp; Pygame</td>\n",
              "      <td>Making Games with Python &amp; Pygame is a program...</td>\n",
              "      <td>366</td>\n",
              "      <td>Paperback</td>\n",
              "      <td>43.16</td>\n",
              "    </tr>\n",
              "    <tr>\n",
              "      <th>135</th>\n",
              "      <td>4.13</td>\n",
              "      <td>122</td>\n",
              "      <td>Python for Data Analysis</td>\n",
              "      <td>Python for Data Analysis is concerned with the...</td>\n",
              "      <td>400</td>\n",
              "      <td>Paperback</td>\n",
              "      <td>46.32</td>\n",
              "    </tr>\n",
              "    <tr>\n",
              "      <th>136</th>\n",
              "      <td>3.93</td>\n",
              "      <td>55</td>\n",
              "      <td>Data Science from Scratch: First Principles wi...</td>\n",
              "      <td>Data science libraries, frameworks, modules, a...</td>\n",
              "      <td>330</td>\n",
              "      <td>Kindle Edition</td>\n",
              "      <td>46.32</td>\n",
              "    </tr>\n",
              "    <tr>\n",
              "      <th>144</th>\n",
              "      <td>4.23</td>\n",
              "      <td>32</td>\n",
              "      <td>Introduction to Computation and Programming Us...</td>\n",
              "      <td>This book introduces students with little or n...</td>\n",
              "      <td>280</td>\n",
              "      <td>Paperback</td>\n",
              "      <td>49.18</td>\n",
              "    </tr>\n",
              "    <tr>\n",
              "      <th>194</th>\n",
              "      <td>4.67</td>\n",
              "      <td>78</td>\n",
              "      <td>Fluent Python: Clear, Concise, and Effective P...</td>\n",
              "      <td>Python's simplicity lets you become productive...</td>\n",
              "      <td>792</td>\n",
              "      <td>Paperback</td>\n",
              "      <td>64.09</td>\n",
              "    </tr>\n",
              "    <tr>\n",
              "      <th>203</th>\n",
              "      <td>3.96</td>\n",
              "      <td>150</td>\n",
              "      <td>Learning Python</td>\n",
              "      <td>Portable, powerful, and a breeze to use, Pytho...</td>\n",
              "      <td>1214</td>\n",
              "      <td>Paperback</td>\n",
              "      <td>67.87</td>\n",
              "    </tr>\n",
              "  </tbody>\n",
              "</table>\n",
              "</div>"
            ],
            "text/plain": [
              "     Rating  Reviews  ...             Type  Price\n",
              "44     4.00        0  ...        Paperback  23.86\n",
              "56     4.35      126  ...        Paperback  26.34\n",
              "57     4.11       17  ...        Paperback  26.92\n",
              "64     3.91        0  ...        Paperback  29.02\n",
              "75     4.27      153  ...        Paperback  33.06\n",
              "85     4.11      125  ...  Unknown Binding  36.13\n",
              "95     3.87      122  ...  Unknown Binding  38.30\n",
              "96     4.29       64  ...        Paperback  38.62\n",
              "120    3.86        8  ...        Paperback  43.16\n",
              "135    4.13      122  ...        Paperback  46.32\n",
              "136    3.93       55  ...   Kindle Edition  46.32\n",
              "144    4.23       32  ...        Paperback  49.18\n",
              "194    4.67       78  ...        Paperback  64.09\n",
              "203    3.96      150  ...        Paperback  67.87\n",
              "\n",
              "[14 rows x 7 columns]"
            ]
          },
          "metadata": {},
          "execution_count": 351
        }
      ]
    },
    {
      "cell_type": "code",
      "metadata": {
        "colab": {
          "base_uri": "https://localhost:8080/",
          "height": 235
        },
        "id": "5UwhKpjNwoAY",
        "outputId": "b7069625-502f-459d-c492-af95c34a849a"
      },
      "source": [
        "# Question 6: How do the Python books rank?\n",
        "book_group = python_books.sort_values(by=['Rating'], ascending=False)\n",
        "book_ratings = book_group[:6]\n",
        "book_ratings"
      ],
      "execution_count": 352,
      "outputs": [
        {
          "output_type": "execute_result",
          "data": {
            "text/html": [
              "<div>\n",
              "<style scoped>\n",
              "    .dataframe tbody tr th:only-of-type {\n",
              "        vertical-align: middle;\n",
              "    }\n",
              "\n",
              "    .dataframe tbody tr th {\n",
              "        vertical-align: top;\n",
              "    }\n",
              "\n",
              "    .dataframe thead th {\n",
              "        text-align: right;\n",
              "    }\n",
              "</style>\n",
              "<table border=\"1\" class=\"dataframe\">\n",
              "  <thead>\n",
              "    <tr style=\"text-align: right;\">\n",
              "      <th></th>\n",
              "      <th>Rating</th>\n",
              "      <th>Reviews</th>\n",
              "      <th>Title</th>\n",
              "      <th>Description</th>\n",
              "      <th>Pages</th>\n",
              "      <th>Type</th>\n",
              "      <th>Price</th>\n",
              "    </tr>\n",
              "  </thead>\n",
              "  <tbody>\n",
              "    <tr>\n",
              "      <th>194</th>\n",
              "      <td>4.67</td>\n",
              "      <td>78</td>\n",
              "      <td>Fluent Python: Clear, Concise, and Effective P...</td>\n",
              "      <td>Python's simplicity lets you become productive...</td>\n",
              "      <td>792</td>\n",
              "      <td>Paperback</td>\n",
              "      <td>64.09</td>\n",
              "    </tr>\n",
              "    <tr>\n",
              "      <th>56</th>\n",
              "      <td>4.35</td>\n",
              "      <td>126</td>\n",
              "      <td>Python Crash Course: A Hands-On, Project-Based...</td>\n",
              "      <td>Python Crash Course is a fast-paced, thorough ...</td>\n",
              "      <td>560</td>\n",
              "      <td>Paperback</td>\n",
              "      <td>26.34</td>\n",
              "    </tr>\n",
              "    <tr>\n",
              "      <th>96</th>\n",
              "      <td>4.29</td>\n",
              "      <td>64</td>\n",
              "      <td>Effective Python: 59 Specific Ways to Write Be...</td>\n",
              "      <td>Each item in Slatkin s \"Effective Python\" teac...</td>\n",
              "      <td>227</td>\n",
              "      <td>Paperback</td>\n",
              "      <td>38.62</td>\n",
              "    </tr>\n",
              "    <tr>\n",
              "      <th>75</th>\n",
              "      <td>4.27</td>\n",
              "      <td>153</td>\n",
              "      <td>Automate the Boring Stuff with Python: Practic...</td>\n",
              "      <td>If you've ever spent hours renaming files or u...</td>\n",
              "      <td>479</td>\n",
              "      <td>Paperback</td>\n",
              "      <td>33.06</td>\n",
              "    </tr>\n",
              "    <tr>\n",
              "      <th>144</th>\n",
              "      <td>4.23</td>\n",
              "      <td>32</td>\n",
              "      <td>Introduction to Computation and Programming Us...</td>\n",
              "      <td>This book introduces students with little or n...</td>\n",
              "      <td>280</td>\n",
              "      <td>Paperback</td>\n",
              "      <td>49.18</td>\n",
              "    </tr>\n",
              "    <tr>\n",
              "      <th>135</th>\n",
              "      <td>4.13</td>\n",
              "      <td>122</td>\n",
              "      <td>Python for Data Analysis</td>\n",
              "      <td>Python for Data Analysis is concerned with the...</td>\n",
              "      <td>400</td>\n",
              "      <td>Paperback</td>\n",
              "      <td>46.32</td>\n",
              "    </tr>\n",
              "  </tbody>\n",
              "</table>\n",
              "</div>"
            ],
            "text/plain": [
              "     Rating  Reviews  ...       Type  Price\n",
              "194    4.67       78  ...  Paperback  64.09\n",
              "56     4.35      126  ...  Paperback  26.34\n",
              "96     4.29       64  ...  Paperback  38.62\n",
              "75     4.27      153  ...  Paperback  33.06\n",
              "144    4.23       32  ...  Paperback  49.18\n",
              "135    4.13      122  ...  Paperback  46.32\n",
              "\n",
              "[6 rows x 7 columns]"
            ]
          },
          "metadata": {},
          "execution_count": 352
        }
      ]
    },
    {
      "cell_type": "code",
      "metadata": {
        "colab": {
          "base_uri": "https://localhost:8080/",
          "height": 336
        },
        "id": "n6Xa5kd6vdmQ",
        "outputId": "14098ca6-494a-4f9c-c1e2-ca72afb1cac5"
      },
      "source": [
        "# Set up variables for the median prices of Python books compared to Data Analysis books\n",
        "pb = df.loc[df.Title.str.contains('Python', flags=re.IGNORECASE)]['Price']\n",
        "da = df.loc[df.Title.str.contains('Data', flags=re.IGNORECASE)]['Price']\n",
        "\n",
        "# Create a boxplot with these variables\n",
        "\n",
        "# plt.figure(figsize=(5, 10))\n",
        "labels = ['Python', 'Data Analysis']\n",
        "plt.style.use('ggplot')\n",
        "boxes = plt.boxplot([pb, da], labels=labels, patch_artist=True, medianprops={'linewidth': 2})\n",
        "\n",
        "# Set color for box outlines\n",
        "for box in boxes['boxes']:\n",
        "  box.set(color='#D93F30', linewidth=2)\n",
        "\n",
        "# Change fill color\n",
        "  box.set(facecolor='#DC9C93')\n",
        "\n",
        "plt.title('Price Comparison of Python and Data Analysis books', size = 12)\n",
        "plt.ylabel('Price Per Book (USD)')\n",
        "\n",
        "plt.show()"
      ],
      "execution_count": 353,
      "outputs": [
        {
          "output_type": "display_data",
          "data": {
            "image/png": "[encoded data removed]",
            "text/plain": [
              "<Figure size 720x360 with 1 Axes>"
            ]
          },
          "metadata": {}
        }
      ]
    },
    {
      "cell_type": "code",
      "metadata": {
        "id": "9XuITgHBQMA_"
      },
      "source": [
        "# There are two price outliers, but I am not averaging prices in this EDA, so there's no need to remove them."
      ],
      "execution_count": 354,
      "outputs": []
    },
    {
      "cell_type": "code",
      "metadata": {
        "colab": {
          "base_uri": "https://localhost:8080/",
          "height": 337
        },
        "id": "moDsjfKggaNZ",
        "outputId": "ddd05424-a177-48d4-bffb-4fb956351978"
      },
      "source": [
        "num_totals = df.hist()"
      ],
      "execution_count": 355,
      "outputs": [
        {
          "output_type": "display_data",
          "data": {
            "image/png": "[encoded data removed]",
            "text/plain": [
              "<Figure size 720x360 with 4 Axes>"
            ]
          },
          "metadata": {}
        }
      ]
    },
    {
      "cell_type": "code",
      "metadata": {
        "id": "KTwJoMZS2lg6"
      },
      "source": [
        ""
      ],
      "execution_count": 355,
      "outputs": []
    }
  ]
}