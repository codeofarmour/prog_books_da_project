{
  "nbformat": 4,
  "nbformat_minor": 0,
  "metadata": {
    "colab": {
      "name": "Books_About_Programming.ipynb",
      "provenance": [],
      "authorship_tag": "ABX9TyMwsFmt0fEEXcs0H0/dEmys",
      "include_colab_link": true
    },
    "kernelspec": {
      "name": "python3",
      "display_name": "Python 3"
    },
    "language_info": {
      "name": "python"
    }
  },
  "cells": [
    {
      "cell_type": "markdown",
      "metadata": {
        "id": "view-in-github",
        "colab_type": "text"
      },
      "source": [
        "<a href=\"https://colab.research.google.com/github/codeofarmour/prog_books_da_project/blob/master/Books_About_Programming.ipynb\" target=\"_parent\"><img src=\"https://colab.research.google.com/assets/colab-badge.svg\" alt=\"Open In Colab\"/></a>"
      ]
    },
    {
      "cell_type": "markdown",
      "metadata": {
        "id": "ZjxODae9NRTz"
      },
      "source": [
        "## **Books About Programming Data Analysis**\n",
        "An exploration of highly rated books.\n",
        "\n",
        "**TODO:** Write a more thoughtful project introduction. Describe the dataset -- where I found it, what I hope to accomplish with it, and which tools and techniques I intend to use."
      ]
    },
    {
      "cell_type": "markdown",
      "metadata": {
        "id": "ElvA4_frKaIK"
      },
      "source": [
        "### Steps to follow:\n",
        "\n",
        "* Import dataset into Colab as a pandas dataframe\n",
        "* Clean data\n",
        "  - Duplicate and anomalous entries removed\n",
        "  - No missing values allowed (prove with seaborn heatmap)\n",
        "* Distribution is shown as either histograms, box plots/box & whisker plots, or frequency graphs\n",
        "* The mean, median, mode, and any other relevant statistical measures for your data have been calculated\n",
        "* At least 5 graphs that determine/demonstrate/show any meaningful correlations in your data; all graphs are presentable, accurate, and meaningful\n",
        "  - Note the use of color, scale, labels, etc.\n",
        "* The code has sufficient comments to describe why/what you are doing in each section\n",
        "* The code runs fully without errors"
      ]
    },
    {
      "cell_type": "markdown",
      "metadata": {
        "id": "8ECvbXn4OjQY"
      },
      "source": [
        "#### Import necessary libraries"
      ]
    },
    {
      "cell_type": "code",
      "metadata": {
        "id": "MyZCiArsFdU7"
      },
      "source": [
        "import numpy as np\n",
        "import pandas as pd\n",
        "import seaborn as sns\n",
        "import matplotlib.pyplot as plt\n"
      ],
      "execution_count": 1,
      "outputs": []
    },
    {
      "cell_type": "markdown",
      "metadata": {
        "id": "IhuboUpGQTzJ"
      },
      "source": [
        "#### Import dataset and store it as a Pandas DataFrame"
      ]
    },
    {
      "cell_type": "code",
      "metadata": {
        "colab": {
          "base_uri": "https://localhost:8080/",
          "height": 206
        },
        "id": "qme3jXeAPDle",
        "outputId": "caba8bb1-1670-4f6c-dfa1-6d692f12526e"
      },
      "source": [
        "df = pd.read_csv('https://raw.githubusercontent.com/codeofarmour/prog_books_da_project/master/prog_book.csv')\n",
        "\n",
        "df.head()"
      ],
      "execution_count": 2,
      "outputs": [
        {
          "output_type": "execute_result",
          "data": {
            "text/html": [
              "<div>\n",
              "<style scoped>\n",
              "    .dataframe tbody tr th:only-of-type {\n",
              "        vertical-align: middle;\n",
              "    }\n",
              "\n",
              "    .dataframe tbody tr th {\n",
              "        vertical-align: top;\n",
              "    }\n",
              "\n",
              "    .dataframe thead th {\n",
              "        text-align: right;\n",
              "    }\n",
              "</style>\n",
              "<table border=\"1\" class=\"dataframe\">\n",
              "  <thead>\n",
              "    <tr style=\"text-align: right;\">\n",
              "      <th></th>\n",
              "      <th>Rating</th>\n",
              "      <th>Reviews</th>\n",
              "      <th>Book_title</th>\n",
              "      <th>Description</th>\n",
              "      <th>Number_Of_Pages</th>\n",
              "      <th>Type</th>\n",
              "      <th>Price</th>\n",
              "    </tr>\n",
              "  </thead>\n",
              "  <tbody>\n",
              "    <tr>\n",
              "      <th>0</th>\n",
              "      <td>4.17</td>\n",
              "      <td>3,829</td>\n",
              "      <td>The Elements of Style</td>\n",
              "      <td>This style manual offers practical advice on i...</td>\n",
              "      <td>105</td>\n",
              "      <td>Hardcover</td>\n",
              "      <td>9.323529</td>\n",
              "    </tr>\n",
              "    <tr>\n",
              "      <th>1</th>\n",
              "      <td>4.01</td>\n",
              "      <td>1,406</td>\n",
              "      <td>The Information: A History, a Theory, a Flood</td>\n",
              "      <td>James Gleick, the author of the best sellers C...</td>\n",
              "      <td>527</td>\n",
              "      <td>Hardcover</td>\n",
              "      <td>11.000000</td>\n",
              "    </tr>\n",
              "    <tr>\n",
              "      <th>2</th>\n",
              "      <td>3.33</td>\n",
              "      <td>0</td>\n",
              "      <td>Responsive Web Design Overview For Beginners</td>\n",
              "      <td>In Responsive Web Design Overview For Beginner...</td>\n",
              "      <td>50</td>\n",
              "      <td>Kindle Edition</td>\n",
              "      <td>11.267647</td>\n",
              "    </tr>\n",
              "    <tr>\n",
              "      <th>3</th>\n",
              "      <td>3.97</td>\n",
              "      <td>1,658</td>\n",
              "      <td>Ghost in the Wires: My Adventures as the World...</td>\n",
              "      <td>If they were a hall of fame or shame for compu...</td>\n",
              "      <td>393</td>\n",
              "      <td>Hardcover</td>\n",
              "      <td>12.873529</td>\n",
              "    </tr>\n",
              "    <tr>\n",
              "      <th>4</th>\n",
              "      <td>4.06</td>\n",
              "      <td>1,325</td>\n",
              "      <td>How Google Works</td>\n",
              "      <td>Both Eric Schmidt and Jonathan Rosenberg came ...</td>\n",
              "      <td>305</td>\n",
              "      <td>Kindle Edition</td>\n",
              "      <td>13.164706</td>\n",
              "    </tr>\n",
              "  </tbody>\n",
              "</table>\n",
              "</div>"
            ],
            "text/plain": [
              "   Rating Reviews  ...            Type      Price\n",
              "0    4.17   3,829  ...       Hardcover   9.323529\n",
              "1    4.01   1,406  ...       Hardcover  11.000000\n",
              "2    3.33       0  ...  Kindle Edition  11.267647\n",
              "3    3.97   1,658  ...       Hardcover  12.873529\n",
              "4    4.06   1,325  ...  Kindle Edition  13.164706\n",
              "\n",
              "[5 rows x 7 columns]"
            ]
          },
          "metadata": {},
          "execution_count": 2
        }
      ]
    },
    {
      "cell_type": "code",
      "metadata": {
        "id": "WZxdrdrAQtlj"
      },
      "source": [
        "\n"
      ],
      "execution_count": 2,
      "outputs": []
    },
    {
      "cell_type": "code",
      "metadata": {
        "id": "qOK9-SsVXabH"
      },
      "source": [
        ""
      ],
      "execution_count": 2,
      "outputs": []
    },
    {
      "cell_type": "code",
      "metadata": {
        "id": "YigOIsbuXf3_"
      },
      "source": [
        ""
      ],
      "execution_count": 2,
      "outputs": []
    },
    {
      "cell_type": "code",
      "metadata": {
        "id": "VBzwzmMBXnQ2"
      },
      "source": [
        ""
      ],
      "execution_count": 2,
      "outputs": []
    },
    {
      "cell_type": "code",
      "metadata": {
        "id": "dHM5ITTQYCMV"
      },
      "source": [
        ""
      ],
      "execution_count": 2,
      "outputs": []
    },
    {
      "cell_type": "code",
      "metadata": {
        "id": "5369xY-qYJkC"
      },
      "source": [
        ""
      ],
      "execution_count": 2,
      "outputs": []
    },
    {
      "cell_type": "code",
      "metadata": {
        "id": "nSI8EAljYsmT"
      },
      "source": [
        ""
      ],
      "execution_count": 2,
      "outputs": []
    },
    {
      "cell_type": "code",
      "metadata": {
        "id": "KrQ5Fa6EYxlh"
      },
      "source": [
        ""
      ],
      "execution_count": 2,
      "outputs": []
    }
  ]
}