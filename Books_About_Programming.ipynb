{
  "nbformat": 4,
  "nbformat_minor": 0,
  "metadata": {
    "colab": {
      "name": "Books_About_Programming.ipynb",
      "provenance": [],
      "authorship_tag": "ABX9TyMF6a8MmJ3wQ915eG5UiZPP",
      "include_colab_link": true
    },
    "kernelspec": {
      "name": "python3",
      "display_name": "Python 3"
    },
    "language_info": {
      "name": "python"
    }
  },
  "cells": [
    {
      "cell_type": "markdown",
      "metadata": {
        "id": "view-in-github",
        "colab_type": "text"
      },
      "source": [
        "<a href=\"https://colab.research.google.com/github/codeofarmour/prog_books_da_project/blob/master/Books_About_Programming.ipynb\" target=\"_parent\"><img src=\"https://colab.research.google.com/assets/colab-badge.svg\" alt=\"Open In Colab\"/></a>"
      ]
    },
    {
      "cell_type": "markdown",
      "metadata": {
        "id": "ZjxODae9NRTz"
      },
      "source": [
        "## **Books About Programming Data Analysis**\n",
        "An exploration of highly rated books.\n",
        "\n",
        "**TODO:** Write a more thoughtful project introduction. Describe the dataset -- where I found it, what I hope to accomplish with it, and which tools and techniques I intend to use."
      ]
    },
    {
      "cell_type": "markdown",
      "metadata": {
        "id": "ElvA4_frKaIK"
      },
      "source": [
        "### Steps to follow:\n",
        "\n",
        "* ~~Import dataset into Colab as a pandas dataframe~~\n",
        "* Clean data\n",
        "  - ~~Duplicate and anomalous entries removed~~\n",
        "  - ~~No missing values allowed (prove with seaborn heatmap)~~\n",
        "* Distribution is shown as either histograms, box plots/box & whisker plots, or frequency graphs\n",
        "* The mean, median, mode, and any other relevant statistical measures for your data have been calculated\n",
        "* At least 5 graphs that determine/demonstrate/show any meaningful correlations in your data; all graphs are presentable, accurate, and meaningful\n",
        "  - Note the use of color, scale, labels, etc.\n",
        "* The code has sufficient comments to describe why/what you are doing in each section\n",
        "* The code runs fully without errors"
      ]
    },
    {
      "cell_type": "markdown",
      "metadata": {
        "id": "8ECvbXn4OjQY"
      },
      "source": [
        "#### Import necessary libraries"
      ]
    },
    {
      "cell_type": "code",
      "metadata": {
        "id": "MyZCiArsFdU7"
      },
      "source": [
        "import numpy as np\n",
        "import pandas as pd\n",
        "import seaborn as sns\n",
        "import matplotlib.pyplot as plt\n"
      ],
      "execution_count": 1,
      "outputs": []
    },
    {
      "cell_type": "markdown",
      "metadata": {
        "id": "IhuboUpGQTzJ"
      },
      "source": [
        "#### Import dataset and store it as a Pandas DataFrame"
      ]
    },
    {
      "cell_type": "code",
      "metadata": {
        "colab": {
          "base_uri": "https://localhost:8080/",
          "height": 206
        },
        "id": "qme3jXeAPDle",
        "outputId": "5753a727-0ba3-4585-d35a-1b7c8763b1aa"
      },
      "source": [
        "df = pd.read_csv('https://raw.githubusercontent.com/codeofarmour/prog_books_da_project/master/prog_book.csv', index_col=False) \n",
        "\n",
        "\"\"\"Still need to remove index\"\"\"\n",
        "\n",
        "df.head()"
      ],
      "execution_count": 2,
      "outputs": [
        {
          "output_type": "execute_result",
          "data": {
            "text/html": [
              "<div>\n",
              "<style scoped>\n",
              "    .dataframe tbody tr th:only-of-type {\n",
              "        vertical-align: middle;\n",
              "    }\n",
              "\n",
              "    .dataframe tbody tr th {\n",
              "        vertical-align: top;\n",
              "    }\n",
              "\n",
              "    .dataframe thead th {\n",
              "        text-align: right;\n",
              "    }\n",
              "</style>\n",
              "<table border=\"1\" class=\"dataframe\">\n",
              "  <thead>\n",
              "    <tr style=\"text-align: right;\">\n",
              "      <th></th>\n",
              "      <th>Rating</th>\n",
              "      <th>Reviews</th>\n",
              "      <th>Book_title</th>\n",
              "      <th>Description</th>\n",
              "      <th>Number_Of_Pages</th>\n",
              "      <th>Type</th>\n",
              "      <th>Price</th>\n",
              "    </tr>\n",
              "  </thead>\n",
              "  <tbody>\n",
              "    <tr>\n",
              "      <th>0</th>\n",
              "      <td>4.17</td>\n",
              "      <td>3,829</td>\n",
              "      <td>The Elements of Style</td>\n",
              "      <td>This style manual offers practical advice on i...</td>\n",
              "      <td>105</td>\n",
              "      <td>Hardcover</td>\n",
              "      <td>9.323529</td>\n",
              "    </tr>\n",
              "    <tr>\n",
              "      <th>1</th>\n",
              "      <td>4.01</td>\n",
              "      <td>1,406</td>\n",
              "      <td>The Information: A History, a Theory, a Flood</td>\n",
              "      <td>James Gleick, the author of the best sellers C...</td>\n",
              "      <td>527</td>\n",
              "      <td>Hardcover</td>\n",
              "      <td>11.000000</td>\n",
              "    </tr>\n",
              "    <tr>\n",
              "      <th>2</th>\n",
              "      <td>3.33</td>\n",
              "      <td>0</td>\n",
              "      <td>Responsive Web Design Overview For Beginners</td>\n",
              "      <td>In Responsive Web Design Overview For Beginner...</td>\n",
              "      <td>50</td>\n",
              "      <td>Kindle Edition</td>\n",
              "      <td>11.267647</td>\n",
              "    </tr>\n",
              "    <tr>\n",
              "      <th>3</th>\n",
              "      <td>3.97</td>\n",
              "      <td>1,658</td>\n",
              "      <td>Ghost in the Wires: My Adventures as the World...</td>\n",
              "      <td>If they were a hall of fame or shame for compu...</td>\n",
              "      <td>393</td>\n",
              "      <td>Hardcover</td>\n",
              "      <td>12.873529</td>\n",
              "    </tr>\n",
              "    <tr>\n",
              "      <th>4</th>\n",
              "      <td>4.06</td>\n",
              "      <td>1,325</td>\n",
              "      <td>How Google Works</td>\n",
              "      <td>Both Eric Schmidt and Jonathan Rosenberg came ...</td>\n",
              "      <td>305</td>\n",
              "      <td>Kindle Edition</td>\n",
              "      <td>13.164706</td>\n",
              "    </tr>\n",
              "  </tbody>\n",
              "</table>\n",
              "</div>"
            ],
            "text/plain": [
              "   Rating Reviews  ...            Type      Price\n",
              "0    4.17   3,829  ...       Hardcover   9.323529\n",
              "1    4.01   1,406  ...       Hardcover  11.000000\n",
              "2    3.33       0  ...  Kindle Edition  11.267647\n",
              "3    3.97   1,658  ...       Hardcover  12.873529\n",
              "4    4.06   1,325  ...  Kindle Edition  13.164706\n",
              "\n",
              "[5 rows x 7 columns]"
            ]
          },
          "metadata": {},
          "execution_count": 2
        }
      ]
    },
    {
      "cell_type": "markdown",
      "metadata": {
        "id": "3SxcgdHSsnG1"
      },
      "source": [
        "#### First look at data - determine if there are discrepancies or inaccurate data type assignments"
      ]
    },
    {
      "cell_type": "code",
      "metadata": {
        "colab": {
          "base_uri": "https://localhost:8080/"
        },
        "id": "WZxdrdrAQtlj",
        "outputId": "b488aba1-52aa-48fc-c5e3-20f9353f5b81"
      },
      "source": [
        "# Check out the dataset columns\n",
        "df.columns\n",
        "\n",
        "# Examine datatypes\n",
        "# It appears there are 4 qualitative data points, at least 3 quantitative data points \n",
        "df.dtypes"
      ],
      "execution_count": 3,
      "outputs": [
        {
          "output_type": "execute_result",
          "data": {
            "text/plain": [
              "Rating             float64\n",
              "Reviews             object\n",
              "Book_title          object\n",
              "Description         object\n",
              "Number_Of_Pages      int64\n",
              "Type                object\n",
              "Price              float64\n",
              "dtype: object"
            ]
          },
          "metadata": {},
          "execution_count": 3
        }
      ]
    },
    {
      "cell_type": "code",
      "metadata": {
        "colab": {
          "base_uri": "https://localhost:8080/"
        },
        "id": "qOK9-SsVXabH",
        "outputId": "48f8860f-2a60-40af-eeae-bb34995cf09b"
      },
      "source": [
        "# Reviews are type object but should be type int64\n",
        "df['Reviews']"
      ],
      "execution_count": 4,
      "outputs": [
        {
          "output_type": "execute_result",
          "data": {
            "text/plain": [
              "0      3,829\n",
              "1      1,406\n",
              "2          0\n",
              "3      1,658\n",
              "4      1,325\n",
              "       ...  \n",
              "266        0\n",
              "267       22\n",
              "268       36\n",
              "269        4\n",
              "270        5\n",
              "Name: Reviews, Length: 271, dtype: object"
            ]
          },
          "metadata": {},
          "execution_count": 4
        }
      ]
    },
    {
      "cell_type": "code",
      "metadata": {
        "id": "YigOIsbuXf3_"
      },
      "source": [
        "# TODO: Figure out what causes this: 'ValueError: Unable to parse string \"Reviews\" at position 0'\n",
        "# df['Reviews'] = pd.to_numeric(['Reviews'])"
      ],
      "execution_count": 5,
      "outputs": []
    },
    {
      "cell_type": "code",
      "metadata": {
        "colab": {
          "base_uri": "https://localhost:8080/"
        },
        "id": "VBzwzmMBXnQ2",
        "outputId": "1c9b0866-a854-4377-fb58-9a1b5f024d56"
      },
      "source": [
        "# Check for null values in dataset\n",
        "df.isnull().values.any()"
      ],
      "execution_count": 6,
      "outputs": [
        {
          "output_type": "execute_result",
          "data": {
            "text/plain": [
              "False"
            ]
          },
          "metadata": {},
          "execution_count": 6
        }
      ]
    },
    {
      "cell_type": "code",
      "metadata": {
        "colab": {
          "base_uri": "https://localhost:8080/"
        },
        "id": "dHM5ITTQYCMV",
        "outputId": "797afa41-7155-46a0-b434-bc9d11d19b46"
      },
      "source": [
        "# Check for duplicate rows\n",
        "df.duplicated()"
      ],
      "execution_count": 42,
      "outputs": [
        {
          "output_type": "execute_result",
          "data": {
            "text/plain": [
              "0      False\n",
              "1      False\n",
              "2      False\n",
              "3      False\n",
              "4      False\n",
              "       ...  \n",
              "266    False\n",
              "267    False\n",
              "268    False\n",
              "269    False\n",
              "270    False\n",
              "Length: 271, dtype: bool"
            ]
          },
          "metadata": {},
          "execution_count": 42
        }
      ]
    },
    {
      "cell_type": "code",
      "metadata": {
        "colab": {
          "base_uri": "https://localhost:8080/",
          "height": 368
        },
        "id": "_eulLJKTEUnc",
        "outputId": "17b96231-5df7-4c23-8784-804d52a202d6"
      },
      "source": [
        "# Check for missing values\n",
        "# TODO - increase figsize\n",
        "df.isna().sum()\n",
        "sns.heatmap(df.isnull(), cbar=False)"
      ],
      "execution_count": 44,
      "outputs": [
        {
          "output_type": "execute_result",
          "data": {
            "text/plain": [
              "<matplotlib.axes._subplots.AxesSubplot at 0x7f014a250b50>"
            ]
          },
          "metadata": {},
          "execution_count": 44
        },
        {
          "output_type": "display_data",
          "data": {
            "image/png": "[encoded data removed]",
            "text/plain": [
              "<Figure size 432x288 with 1 Axes>"
            ]
          },
          "metadata": {
            "needs_background": "light"
          }
        }
      ]
    },
    {
      "cell_type": "code",
      "metadata": {
        "colab": {
          "base_uri": "https://localhost:8080/",
          "height": 300
        },
        "id": "5369xY-qYJkC",
        "outputId": "6c02c6e3-49ca-4d33-acff-02d110216b05"
      },
      "source": [
        "df.describe()"
      ],
      "execution_count": 8,
      "outputs": [
        {
          "output_type": "execute_result",
          "data": {
            "text/html": [
              "<div>\n",
              "<style scoped>\n",
              "    .dataframe tbody tr th:only-of-type {\n",
              "        vertical-align: middle;\n",
              "    }\n",
              "\n",
              "    .dataframe tbody tr th {\n",
              "        vertical-align: top;\n",
              "    }\n",
              "\n",
              "    .dataframe thead th {\n",
              "        text-align: right;\n",
              "    }\n",
              "</style>\n",
              "<table border=\"1\" class=\"dataframe\">\n",
              "  <thead>\n",
              "    <tr style=\"text-align: right;\">\n",
              "      <th></th>\n",
              "      <th>Rating</th>\n",
              "      <th>Number_Of_Pages</th>\n",
              "      <th>Price</th>\n",
              "    </tr>\n",
              "  </thead>\n",
              "  <tbody>\n",
              "    <tr>\n",
              "      <th>count</th>\n",
              "      <td>271.000000</td>\n",
              "      <td>271.000000</td>\n",
              "      <td>271.000000</td>\n",
              "    </tr>\n",
              "    <tr>\n",
              "      <th>mean</th>\n",
              "      <td>4.067417</td>\n",
              "      <td>475.077491</td>\n",
              "      <td>54.541860</td>\n",
              "    </tr>\n",
              "    <tr>\n",
              "      <th>std</th>\n",
              "      <td>0.290749</td>\n",
              "      <td>306.147492</td>\n",
              "      <td>35.711485</td>\n",
              "    </tr>\n",
              "    <tr>\n",
              "      <th>min</th>\n",
              "      <td>3.000000</td>\n",
              "      <td>50.000000</td>\n",
              "      <td>9.323529</td>\n",
              "    </tr>\n",
              "    <tr>\n",
              "      <th>25%</th>\n",
              "      <td>3.915000</td>\n",
              "      <td>289.000000</td>\n",
              "      <td>30.751471</td>\n",
              "    </tr>\n",
              "    <tr>\n",
              "      <th>50%</th>\n",
              "      <td>4.100000</td>\n",
              "      <td>384.000000</td>\n",
              "      <td>46.317647</td>\n",
              "    </tr>\n",
              "    <tr>\n",
              "      <th>75%</th>\n",
              "      <td>4.250000</td>\n",
              "      <td>572.500000</td>\n",
              "      <td>67.854412</td>\n",
              "    </tr>\n",
              "    <tr>\n",
              "      <th>max</th>\n",
              "      <td>5.000000</td>\n",
              "      <td>3168.000000</td>\n",
              "      <td>235.650000</td>\n",
              "    </tr>\n",
              "  </tbody>\n",
              "</table>\n",
              "</div>"
            ],
            "text/plain": [
              "           Rating  Number_Of_Pages       Price\n",
              "count  271.000000       271.000000  271.000000\n",
              "mean     4.067417       475.077491   54.541860\n",
              "std      0.290749       306.147492   35.711485\n",
              "min      3.000000        50.000000    9.323529\n",
              "25%      3.915000       289.000000   30.751471\n",
              "50%      4.100000       384.000000   46.317647\n",
              "75%      4.250000       572.500000   67.854412\n",
              "max      5.000000      3168.000000  235.650000"
            ]
          },
          "metadata": {},
          "execution_count": 8
        }
      ]
    },
    {
      "cell_type": "code",
      "metadata": {
        "colab": {
          "base_uri": "https://localhost:8080/",
          "height": 369
        },
        "id": "nSI8EAljYsmT",
        "outputId": "a998f2e7-5013-4633-fe68-8eda2d9db170"
      },
      "source": [
        "# Plot out distribution of Ratings\n",
        "sns.displot(df['Rating'])\n",
        "\n",
        "# Plot the mean\n",
        "plt.axvline(x=np.mean(df['Rating']), c='r', ls='--', label='mean')\n",
        "\n",
        "# Plot the 25-75th percentile\n",
        "plt.axvline(x=np.percentile(df['Rating'], 25), c='y', ls='-', label='25-75th percentile')\n",
        "plt.axvline(x=np.percentile(df['Rating'], 75), c='y', ls='-')\n",
        "\n",
        "plt.legend()\n",
        "plt.show()"
      ],
      "execution_count": 19,
      "outputs": [
        {
          "output_type": "display_data",
          "data": {
            "image/png": "[encoded data removed]",
            "text/plain": [
              "<Figure size 360x360 with 1 Axes>"
            ]
          },
          "metadata": {
            "needs_background": "light"
          }
        }
      ]
    },
    {
      "cell_type": "code",
      "metadata": {
        "colab": {
          "base_uri": "https://localhost:8080/",
          "height": 695
        },
        "id": "KrQ5Fa6EYxlh",
        "outputId": "8b066039-8524-4d66-fcde-d71fe543663b"
      },
      "source": [
        "# Plot all other numeric variables and their distributions\n",
        "df.hist(figsize=(10,10))"
      ],
      "execution_count": 23,
      "outputs": [
        {
          "output_type": "execute_result",
          "data": {
            "text/plain": [
              "array([[<matplotlib.axes._subplots.AxesSubplot object at 0x7f0149efb090>,\n",
              "        <matplotlib.axes._subplots.AxesSubplot object at 0x7f014a13bc90>],\n",
              "       [<matplotlib.axes._subplots.AxesSubplot object at 0x7f0149c84350>,\n",
              "        <matplotlib.axes._subplots.AxesSubplot object at 0x7f0149c3a9d0>]],\n",
              "      dtype=object)"
            ]
          },
          "metadata": {},
          "execution_count": 23
        },
        {
          "output_type": "display_data",
          "data": {
            "image/png": "[encoded data removed]",
            "text/plain": [
              "<Figure size 720x720 with 4 Axes>"
            ]
          },
          "metadata": {
            "needs_background": "light"
          }
        }
      ]
    },
    {
      "cell_type": "code",
      "metadata": {
        "id": "cSqGCnR66uIP"
      },
      "source": [
        "# Price and Number_Of_Pages seem highly correlated as they're both skewing right"
      ],
      "execution_count": 24,
      "outputs": []
    },
    {
      "cell_type": "markdown",
      "metadata": {
        "id": "2OItoIWY95gF"
      },
      "source": [
        "#### Do book types influence ratings and why?"
      ]
    },
    {
      "cell_type": "code",
      "metadata": {
        "colab": {
          "base_uri": "https://localhost:8080/",
          "height": 269
        },
        "id": "WYj45NJJ7Psu",
        "outputId": "d5f7e110-1a02-476b-d53b-f04b79dbcab3"
      },
      "source": [
        "results = df.groupby('Type').sum()\n",
        "results\n",
        "\n",
        "# TODO: Add total sales column at the beginning in order to compare reviews/sales, etc."
      ],
      "execution_count": 45,
      "outputs": [
        {
          "output_type": "execute_result",
          "data": {
            "text/html": [
              "<div>\n",
              "<style scoped>\n",
              "    .dataframe tbody tr th:only-of-type {\n",
              "        vertical-align: middle;\n",
              "    }\n",
              "\n",
              "    .dataframe tbody tr th {\n",
              "        vertical-align: top;\n",
              "    }\n",
              "\n",
              "    .dataframe thead th {\n",
              "        text-align: right;\n",
              "    }\n",
              "</style>\n",
              "<table border=\"1\" class=\"dataframe\">\n",
              "  <thead>\n",
              "    <tr style=\"text-align: right;\">\n",
              "      <th></th>\n",
              "      <th>Rating</th>\n",
              "      <th>Number_Of_Pages</th>\n",
              "      <th>Price</th>\n",
              "    </tr>\n",
              "    <tr>\n",
              "      <th>Type</th>\n",
              "      <th></th>\n",
              "      <th></th>\n",
              "      <th></th>\n",
              "    </tr>\n",
              "  </thead>\n",
              "  <tbody>\n",
              "    <tr>\n",
              "      <th>Boxed Set - Hardcover</th>\n",
              "      <td>4.49</td>\n",
              "      <td>896</td>\n",
              "      <td>220.385294</td>\n",
              "    </tr>\n",
              "    <tr>\n",
              "      <th>Hardcover</th>\n",
              "      <td>385.69</td>\n",
              "      <td>58374</td>\n",
              "      <td>6662.776470</td>\n",
              "    </tr>\n",
              "    <tr>\n",
              "      <th>Kindle Edition</th>\n",
              "      <td>40.15</td>\n",
              "      <td>2834</td>\n",
              "      <td>323.855882</td>\n",
              "    </tr>\n",
              "    <tr>\n",
              "      <th>Paperback</th>\n",
              "      <td>633.96</td>\n",
              "      <td>63442</td>\n",
              "      <td>7139.952941</td>\n",
              "    </tr>\n",
              "    <tr>\n",
              "      <th>Unknown Binding</th>\n",
              "      <td>7.98</td>\n",
              "      <td>498</td>\n",
              "      <td>74.423529</td>\n",
              "    </tr>\n",
              "    <tr>\n",
              "      <th>ebook</th>\n",
              "      <td>30.00</td>\n",
              "      <td>2702</td>\n",
              "      <td>359.450000</td>\n",
              "    </tr>\n",
              "  </tbody>\n",
              "</table>\n",
              "</div>"
            ],
            "text/plain": [
              "                       Rating  Number_Of_Pages        Price\n",
              "Type                                                       \n",
              "Boxed Set - Hardcover    4.49              896   220.385294\n",
              "Hardcover              385.69            58374  6662.776470\n",
              "Kindle Edition          40.15             2834   323.855882\n",
              "Paperback              633.96            63442  7139.952941\n",
              "Unknown Binding          7.98              498    74.423529\n",
              "ebook                   30.00             2702   359.450000"
            ]
          },
          "metadata": {},
          "execution_count": 45
        }
      ]
    },
    {
      "cell_type": "code",
      "metadata": {
        "colab": {
          "base_uri": "https://localhost:8080/",
          "height": 381
        },
        "id": "6NA2vC8c7cip",
        "outputId": "9ff1caf6-c0a2-4efc-a9a1-67ac66517ced"
      },
      "source": [
        "types = [type for type, df in df.groupby('Type')]\n",
        "\n",
        "plt.bar(types, results['Rating'])\n",
        "\n",
        "plt.xticks(types, rotation='vertical', size=10)\n",
        "plt.ylabel('Ratings')\n",
        "plt.xlabel('Book Type')\n",
        "\n",
        "plt.show()"
      ],
      "execution_count": 41,
      "outputs": [
        {
          "output_type": "display_data",
          "data": {
            "image/png": "[encoded data removed]",
            "text/plain": [
              "<Figure size 432x288 with 1 Axes>"
            ]
          },
          "metadata": {
            "needs_background": "light"
          }
        }
      ]
    },
    {
      "cell_type": "code",
      "metadata": {
        "id": "XdNHsUlJCSPC"
      },
      "source": [
        ""
      ],
      "execution_count": null,
      "outputs": []
    }
  ]
}