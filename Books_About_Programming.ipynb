{
  "nbformat": 4,
  "nbformat_minor": 0,
  "metadata": {
    "colab": {
      "name": "Books_About_Programming.ipynb",
      "provenance": [],
      "authorship_tag": "ABX9TyNPuhiQwSR+jXyaHtl/tMl0",
      "include_colab_link": true
    },
    "kernelspec": {
      "name": "python3",
      "display_name": "Python 3"
    },
    "language_info": {
      "name": "python"
    }
  },
  "cells": [
    {
      "cell_type": "markdown",
      "metadata": {
        "id": "view-in-github",
        "colab_type": "text"
      },
      "source": [
        "<a href=\"https://colab.research.google.com/github/codeofarmour/prog_books_da_project/blob/master/Books_About_Programming.ipynb\" target=\"_parent\"><img src=\"https://colab.research.google.com/assets/colab-badge.svg\" alt=\"Open In Colab\"/></a>"
      ]
    },
    {
      "cell_type": "markdown",
      "metadata": {
        "id": "ZjxODae9NRTz"
      },
      "source": [
        "## **Books About Programming Data Analysis**\n",
        "An exploration of highly rated books.\n",
        "\n",
        "**TODO:** Write a more thoughtful project introduction. Describe the dataset -- where I found it, what I hope to accomplish with it, and which tools and techniques I intend to use."
      ]
    },
    {
      "cell_type": "markdown",
      "metadata": {
        "id": "ElvA4_frKaIK"
      },
      "source": [
        "### Steps to follow:\n",
        "\n",
        "* ~~Import dataset into Colab as a pandas dataframe~~\n",
        "* Clean data\n",
        "  - ~~Duplicate and anomalous entries removed~~\n",
        "  - ~~No missing values allowed (prove with seaborn heatmap)~~\n",
        "* Distribution is shown as either histograms, box plots/box & whisker plots, or frequency graphs\n",
        "* The mean, median, mode, and any other relevant statistical measures for your data have been calculated\n",
        "* At least 5 graphs that determine/demonstrate/show any meaningful correlations in your data; all graphs are presentable, accurate, and meaningful\n",
        "  - Note the use of color, scale, labels, etc.\n",
        "* The code has sufficient comments to describe why/what you are doing in each section\n",
        "* The code runs fully without errors"
      ]
    },
    {
      "cell_type": "markdown",
      "metadata": {
        "id": "8ECvbXn4OjQY"
      },
      "source": [
        "#### Import necessary libraries"
      ]
    },
    {
      "cell_type": "code",
      "metadata": {
        "id": "MyZCiArsFdU7"
      },
      "source": [
        "import numpy as np\n",
        "import pandas as pd\n",
        "import seaborn as sns\n",
        "import matplotlib.pyplot as plt\n"
      ],
      "execution_count": 1,
      "outputs": []
    },
    {
      "cell_type": "markdown",
      "metadata": {
        "id": "IhuboUpGQTzJ"
      },
      "source": [
        "#### Import dataset and store it as a Pandas DataFrame"
      ]
    },
    {
      "cell_type": "code",
      "metadata": {
        "id": "qme3jXeAPDle"
      },
      "source": [
        "df = pd.read_csv('https://raw.githubusercontent.com/codeofarmour/prog_books_da_project/master/prog_book.csv') "
      ],
      "execution_count": 2,
      "outputs": []
    },
    {
      "cell_type": "code",
      "metadata": {
        "id": "Hd5So49GID9u",
        "colab": {
          "base_uri": "https://localhost:8080/",
          "height": 206
        },
        "outputId": "93d1b229-74cf-413e-c3d5-4d169d256042"
      },
      "source": [
        "# Prevent changes to original by assiging a copy of the df to a variable\n",
        "book_data = df.copy()\n",
        "book_data.head()"
      ],
      "execution_count": 3,
      "outputs": [
        {
          "output_type": "execute_result",
          "data": {
            "text/html": [
              "<div>\n",
              "<style scoped>\n",
              "    .dataframe tbody tr th:only-of-type {\n",
              "        vertical-align: middle;\n",
              "    }\n",
              "\n",
              "    .dataframe tbody tr th {\n",
              "        vertical-align: top;\n",
              "    }\n",
              "\n",
              "    .dataframe thead th {\n",
              "        text-align: right;\n",
              "    }\n",
              "</style>\n",
              "<table border=\"1\" class=\"dataframe\">\n",
              "  <thead>\n",
              "    <tr style=\"text-align: right;\">\n",
              "      <th></th>\n",
              "      <th>Rating</th>\n",
              "      <th>Reviews</th>\n",
              "      <th>Book_title</th>\n",
              "      <th>Description</th>\n",
              "      <th>Number_Of_Pages</th>\n",
              "      <th>Type</th>\n",
              "      <th>Price</th>\n",
              "    </tr>\n",
              "  </thead>\n",
              "  <tbody>\n",
              "    <tr>\n",
              "      <th>0</th>\n",
              "      <td>4.17</td>\n",
              "      <td>3,829</td>\n",
              "      <td>The Elements of Style</td>\n",
              "      <td>This style manual offers practical advice on i...</td>\n",
              "      <td>105</td>\n",
              "      <td>Hardcover</td>\n",
              "      <td>9.323529</td>\n",
              "    </tr>\n",
              "    <tr>\n",
              "      <th>1</th>\n",
              "      <td>4.01</td>\n",
              "      <td>1,406</td>\n",
              "      <td>The Information: A History, a Theory, a Flood</td>\n",
              "      <td>James Gleick, the author of the best sellers C...</td>\n",
              "      <td>527</td>\n",
              "      <td>Hardcover</td>\n",
              "      <td>11.000000</td>\n",
              "    </tr>\n",
              "    <tr>\n",
              "      <th>2</th>\n",
              "      <td>3.33</td>\n",
              "      <td>0</td>\n",
              "      <td>Responsive Web Design Overview For Beginners</td>\n",
              "      <td>In Responsive Web Design Overview For Beginner...</td>\n",
              "      <td>50</td>\n",
              "      <td>Kindle Edition</td>\n",
              "      <td>11.267647</td>\n",
              "    </tr>\n",
              "    <tr>\n",
              "      <th>3</th>\n",
              "      <td>3.97</td>\n",
              "      <td>1,658</td>\n",
              "      <td>Ghost in the Wires: My Adventures as the World...</td>\n",
              "      <td>If they were a hall of fame or shame for compu...</td>\n",
              "      <td>393</td>\n",
              "      <td>Hardcover</td>\n",
              "      <td>12.873529</td>\n",
              "    </tr>\n",
              "    <tr>\n",
              "      <th>4</th>\n",
              "      <td>4.06</td>\n",
              "      <td>1,325</td>\n",
              "      <td>How Google Works</td>\n",
              "      <td>Both Eric Schmidt and Jonathan Rosenberg came ...</td>\n",
              "      <td>305</td>\n",
              "      <td>Kindle Edition</td>\n",
              "      <td>13.164706</td>\n",
              "    </tr>\n",
              "  </tbody>\n",
              "</table>\n",
              "</div>"
            ],
            "text/plain": [
              "   Rating Reviews  ...            Type      Price\n",
              "0    4.17   3,829  ...       Hardcover   9.323529\n",
              "1    4.01   1,406  ...       Hardcover  11.000000\n",
              "2    3.33       0  ...  Kindle Edition  11.267647\n",
              "3    3.97   1,658  ...       Hardcover  12.873529\n",
              "4    4.06   1,325  ...  Kindle Edition  13.164706\n",
              "\n",
              "[5 rows x 7 columns]"
            ]
          },
          "metadata": {},
          "execution_count": 3
        }
      ]
    },
    {
      "cell_type": "markdown",
      "metadata": {
        "id": "3SxcgdHSsnG1"
      },
      "source": [
        "#### Determine if there are discrepancies or inaccurate data type assignments"
      ]
    },
    {
      "cell_type": "code",
      "metadata": {
        "colab": {
          "base_uri": "https://localhost:8080/"
        },
        "id": "WZxdrdrAQtlj",
        "outputId": "89f7985b-b531-46b1-99c1-78b7519b3cf6"
      },
      "source": [
        "# It appears there are 4 qualitative data points, at least 3 quantitative data points \n",
        "book_data.dtypes"
      ],
      "execution_count": 4,
      "outputs": [
        {
          "output_type": "execute_result",
          "data": {
            "text/plain": [
              "Rating             float64\n",
              "Reviews             object\n",
              "Book_title          object\n",
              "Description         object\n",
              "Number_Of_Pages      int64\n",
              "Type                object\n",
              "Price              float64\n",
              "dtype: object"
            ]
          },
          "metadata": {},
          "execution_count": 4
        }
      ]
    },
    {
      "cell_type": "code",
      "metadata": {
        "id": "NPj_A-MpUetc"
      },
      "source": [
        "# Remove 0th index column - HOLD UNTIL CERTAIN NOT NEEDED\n",
        "# book_data = book_data.iloc[: , 1:]"
      ],
      "execution_count": 5,
      "outputs": []
    },
    {
      "cell_type": "code",
      "metadata": {
        "id": "qOK9-SsVXabH"
      },
      "source": [
        "# Reviews are type object but should be type int64\n",
        "# Must first remove ',' from the str objects before converting them to ints\n",
        "book_data['Reviews'] = book_data['Reviews'].str.replace(',', '')\n",
        "\n",
        "# Convert 'Reviews' str type to type int64\n",
        "book_data['Reviews'] = book_data['Reviews'].astype('int64')"
      ],
      "execution_count": 6,
      "outputs": []
    },
    {
      "cell_type": "code",
      "metadata": {
        "id": "d1JELCWJHppd",
        "colab": {
          "base_uri": "https://localhost:8080/"
        },
        "outputId": "5b9a188b-0361-43d2-96aa-b398cbedc781"
      },
      "source": [
        "book_data.dtypes\n"
      ],
      "execution_count": 7,
      "outputs": [
        {
          "output_type": "execute_result",
          "data": {
            "text/plain": [
              "Rating             float64\n",
              "Reviews              int64\n",
              "Book_title          object\n",
              "Description         object\n",
              "Number_Of_Pages      int64\n",
              "Type                object\n",
              "Price              float64\n",
              "dtype: object"
            ]
          },
          "metadata": {},
          "execution_count": 7
        }
      ]
    },
    {
      "cell_type": "code",
      "metadata": {
        "id": "YigOIsbuXf3_",
        "colab": {
          "base_uri": "https://localhost:8080/",
          "height": 206
        },
        "outputId": "dac47377-995e-4d32-eb9f-d48e8e2080ee"
      },
      "source": [
        "# Rename specific columns for brevity\n",
        "book_data.rename(columns={'Book_title': 'Title', 'Number_Of_Pages': 'Pages'}, inplace=True)\n",
        "\n",
        "book_data.head()"
      ],
      "execution_count": 8,
      "outputs": [
        {
          "output_type": "execute_result",
          "data": {
            "text/html": [
              "<div>\n",
              "<style scoped>\n",
              "    .dataframe tbody tr th:only-of-type {\n",
              "        vertical-align: middle;\n",
              "    }\n",
              "\n",
              "    .dataframe tbody tr th {\n",
              "        vertical-align: top;\n",
              "    }\n",
              "\n",
              "    .dataframe thead th {\n",
              "        text-align: right;\n",
              "    }\n",
              "</style>\n",
              "<table border=\"1\" class=\"dataframe\">\n",
              "  <thead>\n",
              "    <tr style=\"text-align: right;\">\n",
              "      <th></th>\n",
              "      <th>Rating</th>\n",
              "      <th>Reviews</th>\n",
              "      <th>Title</th>\n",
              "      <th>Description</th>\n",
              "      <th>Pages</th>\n",
              "      <th>Type</th>\n",
              "      <th>Price</th>\n",
              "    </tr>\n",
              "  </thead>\n",
              "  <tbody>\n",
              "    <tr>\n",
              "      <th>0</th>\n",
              "      <td>4.17</td>\n",
              "      <td>3829</td>\n",
              "      <td>The Elements of Style</td>\n",
              "      <td>This style manual offers practical advice on i...</td>\n",
              "      <td>105</td>\n",
              "      <td>Hardcover</td>\n",
              "      <td>9.323529</td>\n",
              "    </tr>\n",
              "    <tr>\n",
              "      <th>1</th>\n",
              "      <td>4.01</td>\n",
              "      <td>1406</td>\n",
              "      <td>The Information: A History, a Theory, a Flood</td>\n",
              "      <td>James Gleick, the author of the best sellers C...</td>\n",
              "      <td>527</td>\n",
              "      <td>Hardcover</td>\n",
              "      <td>11.000000</td>\n",
              "    </tr>\n",
              "    <tr>\n",
              "      <th>2</th>\n",
              "      <td>3.33</td>\n",
              "      <td>0</td>\n",
              "      <td>Responsive Web Design Overview For Beginners</td>\n",
              "      <td>In Responsive Web Design Overview For Beginner...</td>\n",
              "      <td>50</td>\n",
              "      <td>Kindle Edition</td>\n",
              "      <td>11.267647</td>\n",
              "    </tr>\n",
              "    <tr>\n",
              "      <th>3</th>\n",
              "      <td>3.97</td>\n",
              "      <td>1658</td>\n",
              "      <td>Ghost in the Wires: My Adventures as the World...</td>\n",
              "      <td>If they were a hall of fame or shame for compu...</td>\n",
              "      <td>393</td>\n",
              "      <td>Hardcover</td>\n",
              "      <td>12.873529</td>\n",
              "    </tr>\n",
              "    <tr>\n",
              "      <th>4</th>\n",
              "      <td>4.06</td>\n",
              "      <td>1325</td>\n",
              "      <td>How Google Works</td>\n",
              "      <td>Both Eric Schmidt and Jonathan Rosenberg came ...</td>\n",
              "      <td>305</td>\n",
              "      <td>Kindle Edition</td>\n",
              "      <td>13.164706</td>\n",
              "    </tr>\n",
              "  </tbody>\n",
              "</table>\n",
              "</div>"
            ],
            "text/plain": [
              "   Rating  Reviews  ...            Type      Price\n",
              "0    4.17     3829  ...       Hardcover   9.323529\n",
              "1    4.01     1406  ...       Hardcover  11.000000\n",
              "2    3.33        0  ...  Kindle Edition  11.267647\n",
              "3    3.97     1658  ...       Hardcover  12.873529\n",
              "4    4.06     1325  ...  Kindle Edition  13.164706\n",
              "\n",
              "[5 rows x 7 columns]"
            ]
          },
          "metadata": {},
          "execution_count": 8
        }
      ]
    },
    {
      "cell_type": "code",
      "metadata": {
        "id": "9o9atnZhiQhS"
      },
      "source": [
        "# Round 'Price' column to 2 decimal places\n",
        "book_data['Price'] = book_data['Price'].apply(lambda x: round(x, ndigits=2))"
      ],
      "execution_count": 9,
      "outputs": []
    },
    {
      "cell_type": "code",
      "metadata": {
        "id": "VBzwzmMBXnQ2",
        "colab": {
          "base_uri": "https://localhost:8080/"
        },
        "outputId": "28e19fc2-3eda-4796-bdf5-7a66882bd01e"
      },
      "source": [
        "# Check for null values in dataset\n",
        "book_data.isnull().values.any()"
      ],
      "execution_count": 10,
      "outputs": [
        {
          "output_type": "execute_result",
          "data": {
            "text/plain": [
              "False"
            ]
          },
          "metadata": {},
          "execution_count": 10
        }
      ]
    },
    {
      "cell_type": "code",
      "metadata": {
        "id": "dHM5ITTQYCMV",
        "colab": {
          "base_uri": "https://localhost:8080/"
        },
        "outputId": "1d8a760f-6952-4de4-ae2a-5304081a9c7c"
      },
      "source": [
        "# Check for duplicate rows\n",
        "book_data.duplicated().sum()"
      ],
      "execution_count": 11,
      "outputs": [
        {
          "output_type": "execute_result",
          "data": {
            "text/plain": [
              "0"
            ]
          },
          "metadata": {},
          "execution_count": 11
        }
      ]
    },
    {
      "cell_type": "code",
      "metadata": {
        "id": "_eulLJKTEUnc"
      },
      "source": [
        "# TODO - increase figsize\n"
      ],
      "execution_count": 12,
      "outputs": []
    },
    {
      "cell_type": "code",
      "metadata": {
        "id": "5369xY-qYJkC",
        "colab": {
          "base_uri": "https://localhost:8080/"
        },
        "outputId": "8528af6b-c054-4cef-aaf4-42f744af9932"
      },
      "source": [
        "book_data['Price']"
      ],
      "execution_count": 13,
      "outputs": [
        {
          "output_type": "execute_result",
          "data": {
            "text/plain": [
              "0        9.32\n",
              "1       11.00\n",
              "2       11.27\n",
              "3       12.87\n",
              "4       13.16\n",
              "        ...  \n",
              "266    203.11\n",
              "267    212.10\n",
              "268    220.39\n",
              "269    220.39\n",
              "270    235.65\n",
              "Name: Price, Length: 271, dtype: float64"
            ]
          },
          "metadata": {},
          "execution_count": 13
        }
      ]
    },
    {
      "cell_type": "code",
      "metadata": {
        "id": "nSI8EAljYsmT",
        "colab": {
          "base_uri": "https://localhost:8080/",
          "height": 369
        },
        "outputId": "cfeff66c-e2c4-46c6-fb11-30b4fdd8faae"
      },
      "source": [
        "# Plot out distribution of Ratings\n",
        "sns.displot(df['Rating'])\n",
        "\n",
        "# Plot the mean\n",
        "plt.axvline(x=np.mean(df['Rating']), c='r', ls='--', label='mean')\n",
        "\n",
        "# Plot the 25-75th percentile\n",
        "plt.axvline(x=np.percentile(df['Rating'], 25), c='y', ls='-', label='25-75th percentile')\n",
        "plt.axvline(x=np.percentile(df['Rating'], 75), c='y', ls='-')\n",
        "\n",
        "plt.legend()\n",
        "plt.show()"
      ],
      "execution_count": 14,
      "outputs": [
        {
          "output_type": "display_data",
          "data": {
            "image/png": "[encoded data removed]",
            "text/plain": [
              "<Figure size 360x360 with 1 Axes>"
            ]
          },
          "metadata": {
            "needs_background": "light"
          }
        }
      ]
    },
    {
      "cell_type": "code",
      "metadata": {
        "id": "KrQ5Fa6EYxlh",
        "colab": {
          "base_uri": "https://localhost:8080/",
          "height": 677
        },
        "outputId": "926bd1dc-075f-4767-b19a-3f9a0090cd4b"
      },
      "source": [
        "# Plot all other numeric variables and their distributions\n",
        "book_data.hist(figsize=(10,10))"
      ],
      "execution_count": 33,
      "outputs": [
        {
          "output_type": "stream",
          "name": "stdout",
          "text": [
            "[[<matplotlib.axes._subplots.AxesSubplot object at 0x7fd4935cdc50>\n",
            "  <matplotlib.axes._subplots.AxesSubplot object at 0x7fd493570090>]\n",
            " [<matplotlib.axes._subplots.AxesSubplot object at 0x7fd4935a0610>\n",
            "  <matplotlib.axes._subplots.AxesSubplot object at 0x7fd493556c90>]]\n"
          ]
        },
        {
          "output_type": "display_data",
          "data": {
            "image/png": "[encoded data removed]",
            "text/plain": [
              "<Figure size 720x720 with 4 Axes>"
            ]
          },
          "metadata": {
            "needs_background": "light"
          }
        }
      ]
    },
    {
      "cell_type": "code",
      "metadata": {
        "id": "cSqGCnR66uIP"
      },
      "source": [
        "# Price and Number_Of_Pages seem highly correlated as they're both skewing right"
      ],
      "execution_count": 16,
      "outputs": []
    },
    {
      "cell_type": "markdown",
      "metadata": {
        "id": "2OItoIWY95gF"
      },
      "source": [
        "#### Do book types influence ratings and why?"
      ]
    },
    {
      "cell_type": "code",
      "metadata": {
        "id": "WYj45NJJ7Psu",
        "colab": {
          "base_uri": "https://localhost:8080/",
          "height": 269
        },
        "outputId": "c173050d-84cd-4715-d1e7-a5da491f76cb"
      },
      "source": [
        "results = book_data.groupby('Type').sum()\n",
        "results\n",
        "\n",
        "# TODO: Add total sales column at the beginning in order to compare reviews/sales, etc."
      ],
      "execution_count": 17,
      "outputs": [
        {
          "output_type": "execute_result",
          "data": {
            "text/html": [
              "<div>\n",
              "<style scoped>\n",
              "    .dataframe tbody tr th:only-of-type {\n",
              "        vertical-align: middle;\n",
              "    }\n",
              "\n",
              "    .dataframe tbody tr th {\n",
              "        vertical-align: top;\n",
              "    }\n",
              "\n",
              "    .dataframe thead th {\n",
              "        text-align: right;\n",
              "    }\n",
              "</style>\n",
              "<table border=\"1\" class=\"dataframe\">\n",
              "  <thead>\n",
              "    <tr style=\"text-align: right;\">\n",
              "      <th></th>\n",
              "      <th>Rating</th>\n",
              "      <th>Reviews</th>\n",
              "      <th>Pages</th>\n",
              "      <th>Price</th>\n",
              "    </tr>\n",
              "    <tr>\n",
              "      <th>Type</th>\n",
              "      <th></th>\n",
              "      <th></th>\n",
              "      <th></th>\n",
              "      <th></th>\n",
              "    </tr>\n",
              "  </thead>\n",
              "  <tbody>\n",
              "    <tr>\n",
              "      <th>Boxed Set - Hardcover</th>\n",
              "      <td>4.49</td>\n",
              "      <td>36</td>\n",
              "      <td>896</td>\n",
              "      <td>220.39</td>\n",
              "    </tr>\n",
              "    <tr>\n",
              "      <th>Hardcover</th>\n",
              "      <td>385.69</td>\n",
              "      <td>29942</td>\n",
              "      <td>58374</td>\n",
              "      <td>6662.76</td>\n",
              "    </tr>\n",
              "    <tr>\n",
              "      <th>Kindle Edition</th>\n",
              "      <td>40.15</td>\n",
              "      <td>1565</td>\n",
              "      <td>2834</td>\n",
              "      <td>323.85</td>\n",
              "    </tr>\n",
              "    <tr>\n",
              "      <th>Paperback</th>\n",
              "      <td>633.96</td>\n",
              "      <td>18136</td>\n",
              "      <td>63442</td>\n",
              "      <td>7139.90</td>\n",
              "    </tr>\n",
              "    <tr>\n",
              "      <th>Unknown Binding</th>\n",
              "      <td>7.98</td>\n",
              "      <td>247</td>\n",
              "      <td>498</td>\n",
              "      <td>74.43</td>\n",
              "    </tr>\n",
              "    <tr>\n",
              "      <th>ebook</th>\n",
              "      <td>30.00</td>\n",
              "      <td>360</td>\n",
              "      <td>2702</td>\n",
              "      <td>359.46</td>\n",
              "    </tr>\n",
              "  </tbody>\n",
              "</table>\n",
              "</div>"
            ],
            "text/plain": [
              "                       Rating  Reviews  Pages    Price\n",
              "Type                                                  \n",
              "Boxed Set - Hardcover    4.49       36    896   220.39\n",
              "Hardcover              385.69    29942  58374  6662.76\n",
              "Kindle Edition          40.15     1565   2834   323.85\n",
              "Paperback              633.96    18136  63442  7139.90\n",
              "Unknown Binding          7.98      247    498    74.43\n",
              "ebook                   30.00      360   2702   359.46"
            ]
          },
          "metadata": {},
          "execution_count": 17
        }
      ]
    },
    {
      "cell_type": "code",
      "metadata": {
        "id": "6NA2vC8c7cip",
        "colab": {
          "base_uri": "https://localhost:8080/",
          "height": 381
        },
        "outputId": "54129738-bf83-40c8-812a-b7cc7d401546"
      },
      "source": [
        "types = [type for type, book_data in book_data.groupby('Type')]\n",
        "\n",
        "plt.bar(types, results['Rating'])\n",
        "\n",
        "plt.xticks(types, rotation='vertical', size=10)\n",
        "plt.ylabel('Ratings')\n",
        "plt.xlabel('Book Type')\n",
        "\n",
        "plt.show()"
      ],
      "execution_count": 18,
      "outputs": [
        {
          "output_type": "display_data",
          "data": {
            "image/png": "[encoded data removed]",
            "text/plain": [
              "<Figure size 432x288 with 1 Axes>"
            ]
          },
          "metadata": {
            "needs_background": "light"
          }
        }
      ]
    },
    {
      "cell_type": "code",
      "metadata": {
        "id": "XdNHsUlJCSPC",
        "colab": {
          "base_uri": "https://localhost:8080/",
          "height": 424
        },
        "outputId": "b400fb3a-c9b1-460e-ffc9-ccdaabf07a45"
      },
      "source": [
        "book_data"
      ],
      "execution_count": 19,
      "outputs": [
        {
          "output_type": "execute_result",
          "data": {
            "text/html": [
              "<div>\n",
              "<style scoped>\n",
              "    .dataframe tbody tr th:only-of-type {\n",
              "        vertical-align: middle;\n",
              "    }\n",
              "\n",
              "    .dataframe tbody tr th {\n",
              "        vertical-align: top;\n",
              "    }\n",
              "\n",
              "    .dataframe thead th {\n",
              "        text-align: right;\n",
              "    }\n",
              "</style>\n",
              "<table border=\"1\" class=\"dataframe\">\n",
              "  <thead>\n",
              "    <tr style=\"text-align: right;\">\n",
              "      <th></th>\n",
              "      <th>Rating</th>\n",
              "      <th>Reviews</th>\n",
              "      <th>Title</th>\n",
              "      <th>Description</th>\n",
              "      <th>Pages</th>\n",
              "      <th>Type</th>\n",
              "      <th>Price</th>\n",
              "    </tr>\n",
              "  </thead>\n",
              "  <tbody>\n",
              "    <tr>\n",
              "      <th>0</th>\n",
              "      <td>4.17</td>\n",
              "      <td>3829</td>\n",
              "      <td>The Elements of Style</td>\n",
              "      <td>This style manual offers practical advice on i...</td>\n",
              "      <td>105</td>\n",
              "      <td>Hardcover</td>\n",
              "      <td>9.32</td>\n",
              "    </tr>\n",
              "    <tr>\n",
              "      <th>1</th>\n",
              "      <td>4.01</td>\n",
              "      <td>1406</td>\n",
              "      <td>The Information: A History, a Theory, a Flood</td>\n",
              "      <td>James Gleick, the author of the best sellers C...</td>\n",
              "      <td>527</td>\n",
              "      <td>Hardcover</td>\n",
              "      <td>11.00</td>\n",
              "    </tr>\n",
              "    <tr>\n",
              "      <th>2</th>\n",
              "      <td>3.33</td>\n",
              "      <td>0</td>\n",
              "      <td>Responsive Web Design Overview For Beginners</td>\n",
              "      <td>In Responsive Web Design Overview For Beginner...</td>\n",
              "      <td>50</td>\n",
              "      <td>Kindle Edition</td>\n",
              "      <td>11.27</td>\n",
              "    </tr>\n",
              "    <tr>\n",
              "      <th>3</th>\n",
              "      <td>3.97</td>\n",
              "      <td>1658</td>\n",
              "      <td>Ghost in the Wires: My Adventures as the World...</td>\n",
              "      <td>If they were a hall of fame or shame for compu...</td>\n",
              "      <td>393</td>\n",
              "      <td>Hardcover</td>\n",
              "      <td>12.87</td>\n",
              "    </tr>\n",
              "    <tr>\n",
              "      <th>4</th>\n",
              "      <td>4.06</td>\n",
              "      <td>1325</td>\n",
              "      <td>How Google Works</td>\n",
              "      <td>Both Eric Schmidt and Jonathan Rosenberg came ...</td>\n",
              "      <td>305</td>\n",
              "      <td>Kindle Edition</td>\n",
              "      <td>13.16</td>\n",
              "    </tr>\n",
              "    <tr>\n",
              "      <th>...</th>\n",
              "      <td>...</td>\n",
              "      <td>...</td>\n",
              "      <td>...</td>\n",
              "      <td>...</td>\n",
              "      <td>...</td>\n",
              "      <td>...</td>\n",
              "      <td>...</td>\n",
              "    </tr>\n",
              "    <tr>\n",
              "      <th>266</th>\n",
              "      <td>3.76</td>\n",
              "      <td>0</td>\n",
              "      <td>3D Game Engine Architecture: Engineering Real-...</td>\n",
              "      <td>Dave Eberly's 3D Game Engine Design was the fi...</td>\n",
              "      <td>752</td>\n",
              "      <td>Hardcover</td>\n",
              "      <td>203.11</td>\n",
              "    </tr>\n",
              "    <tr>\n",
              "      <th>267</th>\n",
              "      <td>3.94</td>\n",
              "      <td>22</td>\n",
              "      <td>An Introduction to Database Systems</td>\n",
              "      <td>Continuing in the eighth edition, An Introduct...</td>\n",
              "      <td>1040</td>\n",
              "      <td>Paperback</td>\n",
              "      <td>212.10</td>\n",
              "    </tr>\n",
              "    <tr>\n",
              "      <th>268</th>\n",
              "      <td>4.49</td>\n",
              "      <td>36</td>\n",
              "      <td>The Art of Computer Programming, Volumes 1-3 B...</td>\n",
              "      <td>Knuth's classic work has been widely acclaimed...</td>\n",
              "      <td>896</td>\n",
              "      <td>Boxed Set - Hardcover</td>\n",
              "      <td>220.39</td>\n",
              "    </tr>\n",
              "    <tr>\n",
              "      <th>269</th>\n",
              "      <td>4.77</td>\n",
              "      <td>4</td>\n",
              "      <td>The Art of Computer Programming, Volumes 1-4a ...</td>\n",
              "      <td>\"The bible of all fundamental algorithms and t...</td>\n",
              "      <td>3168</td>\n",
              "      <td>Hardcover</td>\n",
              "      <td>220.39</td>\n",
              "    </tr>\n",
              "    <tr>\n",
              "      <th>270</th>\n",
              "      <td>3.84</td>\n",
              "      <td>5</td>\n",
              "      <td>A Discipline for Software Engineering</td>\n",
              "      <td>Designed to help individual programmers develo...</td>\n",
              "      <td>789</td>\n",
              "      <td>Hardcover</td>\n",
              "      <td>235.65</td>\n",
              "    </tr>\n",
              "  </tbody>\n",
              "</table>\n",
              "<p>271 rows × 7 columns</p>\n",
              "</div>"
            ],
            "text/plain": [
              "     Rating  Reviews  ...                   Type   Price\n",
              "0      4.17     3829  ...              Hardcover    9.32\n",
              "1      4.01     1406  ...              Hardcover   11.00\n",
              "2      3.33        0  ...         Kindle Edition   11.27\n",
              "3      3.97     1658  ...              Hardcover   12.87\n",
              "4      4.06     1325  ...         Kindle Edition   13.16\n",
              "..      ...      ...  ...                    ...     ...\n",
              "266    3.76        0  ...              Hardcover  203.11\n",
              "267    3.94       22  ...              Paperback  212.10\n",
              "268    4.49       36  ...  Boxed Set - Hardcover  220.39\n",
              "269    4.77        4  ...              Hardcover  220.39\n",
              "270    3.84        5  ...              Hardcover  235.65\n",
              "\n",
              "[271 rows x 7 columns]"
            ]
          },
          "metadata": {},
          "execution_count": 19
        }
      ]
    },
    {
      "cell_type": "code",
      "metadata": {
        "colab": {
          "base_uri": "https://localhost:8080/",
          "height": 206
        },
        "id": "fp0WJPzMtsn_",
        "outputId": "9ad4e31a-27dc-45d8-8613-15a8f77fc9e4"
      },
      "source": [
        "# Sort from highest Rating to lowest\n",
        "highest_all = book_data.nlargest(5, 'Rating')"
      ],
      "execution_count": 29,
      "outputs": [
        {
          "output_type": "execute_result",
          "data": {
            "text/html": [
              "<div>\n",
              "<style scoped>\n",
              "    .dataframe tbody tr th:only-of-type {\n",
              "        vertical-align: middle;\n",
              "    }\n",
              "\n",
              "    .dataframe tbody tr th {\n",
              "        vertical-align: top;\n",
              "    }\n",
              "\n",
              "    .dataframe thead th {\n",
              "        text-align: right;\n",
              "    }\n",
              "</style>\n",
              "<table border=\"1\" class=\"dataframe\">\n",
              "  <thead>\n",
              "    <tr style=\"text-align: right;\">\n",
              "      <th></th>\n",
              "      <th>Rating</th>\n",
              "      <th>Reviews</th>\n",
              "      <th>Title</th>\n",
              "      <th>Description</th>\n",
              "      <th>Pages</th>\n",
              "      <th>Type</th>\n",
              "      <th>Price</th>\n",
              "    </tr>\n",
              "  </thead>\n",
              "  <tbody>\n",
              "    <tr>\n",
              "      <th>54</th>\n",
              "      <td>5.00</td>\n",
              "      <td>0</td>\n",
              "      <td>Your First App: Node.js</td>\n",
              "      <td>A tutorial for real-world application developm...</td>\n",
              "      <td>317</td>\n",
              "      <td>ebook</td>\n",
              "      <td>25.86</td>\n",
              "    </tr>\n",
              "    <tr>\n",
              "      <th>269</th>\n",
              "      <td>4.77</td>\n",
              "      <td>4</td>\n",
              "      <td>The Art of Computer Programming, Volumes 1-4a ...</td>\n",
              "      <td>\"The bible of all fundamental algorithms and t...</td>\n",
              "      <td>3168</td>\n",
              "      <td>Hardcover</td>\n",
              "      <td>220.39</td>\n",
              "    </tr>\n",
              "    <tr>\n",
              "      <th>131</th>\n",
              "      <td>4.72</td>\n",
              "      <td>362</td>\n",
              "      <td>Designing Data-Intensive Applications: The Big...</td>\n",
              "      <td>Want to know how the best software engineers a...</td>\n",
              "      <td>616</td>\n",
              "      <td>Paperback</td>\n",
              "      <td>45.56</td>\n",
              "    </tr>\n",
              "    <tr>\n",
              "      <th>114</th>\n",
              "      <td>4.67</td>\n",
              "      <td>1</td>\n",
              "      <td>Build Web Applications with Java: Learn every ...</td>\n",
              "      <td>This book is primarily intended for beginners ...</td>\n",
              "      <td>372</td>\n",
              "      <td>Paperback</td>\n",
              "      <td>42.28</td>\n",
              "    </tr>\n",
              "    <tr>\n",
              "      <th>194</th>\n",
              "      <td>4.67</td>\n",
              "      <td>78</td>\n",
              "      <td>Fluent Python: Clear, Concise, and Effective P...</td>\n",
              "      <td>Python's simplicity lets you become productive...</td>\n",
              "      <td>792</td>\n",
              "      <td>Paperback</td>\n",
              "      <td>64.09</td>\n",
              "    </tr>\n",
              "  </tbody>\n",
              "</table>\n",
              "</div>"
            ],
            "text/plain": [
              "     Rating  Reviews  ...       Type   Price\n",
              "54     5.00        0  ...      ebook   25.86\n",
              "269    4.77        4  ...  Hardcover  220.39\n",
              "131    4.72      362  ...  Paperback   45.56\n",
              "114    4.67        1  ...  Paperback   42.28\n",
              "194    4.67       78  ...  Paperback   64.09\n",
              "\n",
              "[5 rows x 7 columns]"
            ]
          },
          "metadata": {},
          "execution_count": 29
        }
      ]
    },
    {
      "cell_type": "code",
      "metadata": {
        "colab": {
          "base_uri": "https://localhost:8080/"
        },
        "id": "JgK26Wa1uQTu",
        "outputId": "3466b3bd-3aef-4a02-c991-aa365e1a9431"
      },
      "source": [
        "# Books with 'Python' in the title\n",
        "python_books = book_data[book_data['Title'].str.contains('Python')]\n",
        "len(python_books)"
      ],
      "execution_count": 32,
      "outputs": [
        {
          "output_type": "execute_result",
          "data": {
            "text/plain": [
              "14"
            ]
          },
          "metadata": {},
          "execution_count": 32
        }
      ]
    },
    {
      "cell_type": "code",
      "metadata": {
        "colab": {
          "base_uri": "https://localhost:8080/"
        },
        "id": "dSzCVF914VJU",
        "outputId": "09072c35-fcf1-4804-dc3b-4ed96e6c626e"
      },
      "source": [
        "# Books with Python in description\n",
        "python_in_desc = book_data[book_data['Description'].str.contains('Python')]\n",
        "len(python_in_desc)"
      ],
      "execution_count": 31,
      "outputs": [
        {
          "output_type": "execute_result",
          "data": {
            "text/plain": [
              "16"
            ]
          },
          "metadata": {},
          "execution_count": 31
        }
      ]
    },
    {
      "cell_type": "code",
      "metadata": {
        "id": "2MX6ex8c4lLw"
      },
      "source": [
        ""
      ],
      "execution_count": null,
      "outputs": []
    }
  ]
}